{
 "cells": [
  {
   "cell_type": "markdown",
   "metadata": {},
   "source": [
    "# WeatherPy\n",
    "----\n",
    "\n",
    "#### Note\n",
    "* Instructions have been included for each segment. You do not have to follow them exactly, but they are included to help you think through the steps."
   ]
  },
  {
   "cell_type": "code",
   "execution_count": 307,
   "metadata": {
    "scrolled": true
   },
   "outputs": [],
   "source": [
    "# Dependencies and Setup\n",
    "import matplotlib.pyplot as plt\n",
    "import pandas as pd\n",
    "import numpy as np\n",
    "import requests\n",
    "import time\n",
    "from scipy.stats import linregress\n",
    "\n",
    "# Import API key\n",
    "from api_keys import weather_api_key\n",
    "\n",
    "# Incorporated citipy to determine city based on latitude and longitude\n",
    "from citipy import citipy\n",
    "\n",
    "# Output File (CSV)\n",
    "output_data_file = \"output_data/cities.csv\"\n",
    "\n",
    "# Range of latitudes and longitudes\n",
    "lat_range = (-90, 90)\n",
    "lng_range = (-180, 180)"
   ]
  },
  {
   "cell_type": "markdown",
   "metadata": {},
   "source": [
    "## Generate Cities List"
   ]
  },
  {
   "cell_type": "code",
   "execution_count": 308,
   "metadata": {},
   "outputs": [
    {
     "data": {
      "text/plain": [
       "604"
      ]
     },
     "execution_count": 308,
     "metadata": {},
     "output_type": "execute_result"
    }
   ],
   "source": [
    "# List for holding lat_lngs and cities\n",
    "lat_lngs = []\n",
    "cities = []\n",
    "\n",
    "# Create a set of random lat and lng combinations\n",
    "lats = np.random.uniform(low=-90.000, high=90.000, size=1500)\n",
    "lngs = np.random.uniform(low=-180.000, high=180.000, size=1500)\n",
    "lat_lngs = zip(lats, lngs)\n",
    "\n",
    "# Identify nearest city for each lat, lng combination\n",
    "for lat_lng in lat_lngs:\n",
    "    city = citipy.nearest_city(lat_lng[0], lat_lng[1]).city_name\n",
    "    \n",
    "    # If the city is unique, then add it to a our cities list\n",
    "    if city not in cities:\n",
    "        cities.append(city)\n",
    "\n",
    "# Print the city count to confirm sufficient count\n",
    "len(cities)"
   ]
  },
  {
   "cell_type": "markdown",
   "metadata": {},
   "source": [
    "### Perform API Calls\n",
    "* Perform a weather check on each city using a series of successive API calls.\n",
    "* Include a print log of each city as it'sbeing processed (with the city number and city name).\n"
   ]
  },
  {
   "cell_type": "code",
   "execution_count": 272,
   "metadata": {},
   "outputs": [
    {
     "name": "stdout",
     "output_type": "stream",
     "text": [
      "Beginning Data Retrieval\n",
      "-----------------------------\n",
      "Processing Record 1 of Set 1 | karratha\n",
      "City not found. Skipping...\n",
      "Processing Record 2 of Set 1 | yumen\n",
      "Processing Record 3 of Set 1 | hobart\n",
      "Processing Record 4 of Set 1 | castro\n",
      "Processing Record 5 of Set 1 | nikolskoye\n",
      "City not found. Skipping...\n",
      "Processing Record 6 of Set 1 | ushuaia\n",
      "Processing Record 7 of Set 1 | mataura\n",
      "Processing Record 8 of Set 1 | avarua\n",
      "Processing Record 9 of Set 1 | rikitea\n",
      "Processing Record 10 of Set 1 | northfield\n",
      "Processing Record 11 of Set 1 | chepo\n",
      "Processing Record 12 of Set 1 | araouane\n",
      "Processing Record 13 of Set 1 | kaitangata\n",
      "City not found. Skipping...\n",
      "City not found. Skipping...\n",
      "Processing Record 14 of Set 1 | teguldet\n",
      "City not found. Skipping...\n",
      "Processing Record 15 of Set 1 | nador\n",
      "Processing Record 16 of Set 1 | atuona\n",
      "Processing Record 17 of Set 1 | hermanus\n",
      "Processing Record 18 of Set 1 | busselton\n",
      "Processing Record 19 of Set 1 | severo-kurilsk\n",
      "City not found. Skipping...\n",
      "Processing Record 20 of Set 1 | makakilo city\n",
      "Processing Record 21 of Set 1 | tuktoyaktuk\n",
      "Processing Record 22 of Set 1 | punta arenas\n",
      "Processing Record 23 of Set 1 | ozernovskiy\n",
      "Processing Record 24 of Set 1 | ahipara\n",
      "Processing Record 25 of Set 1 | nhulunbuy\n",
      "Processing Record 26 of Set 1 | makamba\n",
      "Processing Record 27 of Set 1 | bubaque\n",
      "Processing Record 28 of Set 1 | ancud\n",
      "Processing Record 29 of Set 1 | ovre ardal\n",
      "Processing Record 30 of Set 1 | sinjar\n",
      "Processing Record 31 of Set 1 | bathsheba\n",
      "Processing Record 32 of Set 1 | bethel\n",
      "Processing Record 33 of Set 1 | kapaa\n",
      "Processing Record 34 of Set 1 | longyearbyen\n",
      "Processing Record 35 of Set 1 | kysyl-syr\n",
      "Processing Record 36 of Set 1 | koumac\n",
      "Processing Record 37 of Set 1 | chuy\n",
      "Processing Record 38 of Set 1 | khatanga\n",
      "Processing Record 39 of Set 1 | nemuro\n",
      "Processing Record 40 of Set 1 | morant bay\n",
      "Processing Record 41 of Set 1 | coquimbo\n",
      "Processing Record 42 of Set 1 | dikson\n",
      "Processing Record 43 of Set 1 | port hardy\n",
      "Processing Record 44 of Set 1 | wynyard\n",
      "Processing Record 45 of Set 1 | san policarpo\n",
      "Processing Record 46 of Set 1 | ustka\n",
      "Processing Record 47 of Set 1 | vaini\n",
      "Processing Record 48 of Set 1 | santa marta\n",
      "Processing Record 49 of Set 1 | bredasdorp\n",
      "Processing Record 0 of Set 2 | sukumo\n",
      "Processing Record 1 of Set 2 | saskylakh\n",
      "Processing Record 2 of Set 2 | albany\n",
      "Processing Record 3 of Set 2 | tasiilaq\n",
      "Processing Record 4 of Set 2 | medicine hat\n",
      "Processing Record 5 of Set 2 | port alfred\n",
      "Processing Record 6 of Set 2 | hilo\n",
      "Processing Record 7 of Set 2 | riyadh\n",
      "Processing Record 8 of Set 2 | takab\n",
      "Processing Record 9 of Set 2 | ixtapa\n",
      "Processing Record 10 of Set 2 | arraial do cabo\n",
      "Processing Record 11 of Set 2 | klaksvik\n",
      "Processing Record 12 of Set 2 | aklavik\n",
      "Processing Record 13 of Set 2 | fortuna\n",
      "Processing Record 14 of Set 2 | port elizabeth\n",
      "Processing Record 15 of Set 2 | nouadhibou\n",
      "Processing Record 16 of Set 2 | saint-francois\n",
      "Processing Record 17 of Set 2 | athabasca\n",
      "Processing Record 18 of Set 2 | borovoy\n",
      "Processing Record 19 of Set 2 | samarai\n",
      "Processing Record 20 of Set 2 | asahi\n",
      "Processing Record 21 of Set 2 | ribeira grande\n",
      "Processing Record 22 of Set 2 | belle fourche\n",
      "Processing Record 23 of Set 2 | thompson\n",
      "Processing Record 24 of Set 2 | san quintin\n",
      "City not found. Skipping...\n",
      "Processing Record 25 of Set 2 | sibolga\n",
      "Processing Record 26 of Set 2 | shingu\n",
      "Processing Record 27 of Set 2 | san joaquin\n",
      "Processing Record 28 of Set 2 | ugra\n",
      "Processing Record 29 of Set 2 | avera\n",
      "Processing Record 30 of Set 2 | kjollefjord\n",
      "Processing Record 31 of Set 2 | corner brook\n",
      "Processing Record 32 of Set 2 | poum\n",
      "Processing Record 33 of Set 2 | antibes\n",
      "City not found. Skipping...\n",
      "Processing Record 34 of Set 2 | ostrovnoy\n",
      "Processing Record 35 of Set 2 | kodiak\n",
      "Processing Record 36 of Set 2 | upernavik\n",
      "Processing Record 37 of Set 2 | lorengau\n",
      "City not found. Skipping...\n",
      "Processing Record 38 of Set 2 | kavaratti\n",
      "Processing Record 39 of Set 2 | hithadhoo\n",
      "Processing Record 40 of Set 2 | faanui\n",
      "Processing Record 41 of Set 2 | broken hill\n",
      "Processing Record 42 of Set 2 | gwadar\n",
      "Processing Record 43 of Set 2 | zlobin\n",
      "Processing Record 44 of Set 2 | quatre cocos\n",
      "Processing Record 45 of Set 2 | nova olimpia\n",
      "Processing Record 46 of Set 2 | ouango\n",
      "Processing Record 47 of Set 2 | labuhan\n",
      "Processing Record 48 of Set 2 | shubarkuduk\n",
      "Processing Record 49 of Set 2 | redlands\n",
      "Processing Record 0 of Set 3 | bluff\n",
      "Processing Record 1 of Set 3 | cidreira\n",
      "City not found. Skipping...\n",
      "Processing Record 2 of Set 3 | beroroha\n",
      "Processing Record 3 of Set 3 | along\n",
      "Processing Record 4 of Set 3 | great falls\n",
      "Processing Record 5 of Set 3 | iqaluit\n",
      "Processing Record 6 of Set 3 | mangrol\n",
      "Processing Record 7 of Set 3 | kinlochleven\n",
      "Processing Record 8 of Set 3 | reinosa\n",
      "Processing Record 9 of Set 3 | konevo\n",
      "Processing Record 10 of Set 3 | victoria\n",
      "Processing Record 11 of Set 3 | alice springs\n",
      "Processing Record 12 of Set 3 | tiksi\n",
      "Processing Record 13 of Set 3 | kontagora\n",
      "Processing Record 14 of Set 3 | champerico\n",
      "Processing Record 15 of Set 3 | cape town\n",
      "Processing Record 16 of Set 3 | gushikawa\n",
      "Processing Record 17 of Set 3 | poronaysk\n",
      "City not found. Skipping...\n",
      "Processing Record 18 of Set 3 | mahebourg\n",
      "Processing Record 19 of Set 3 | charters towers\n",
      "Processing Record 20 of Set 3 | thatta\n",
      "Processing Record 21 of Set 3 | lebu\n",
      "Processing Record 22 of Set 3 | cabo san lucas\n",
      "Processing Record 23 of Set 3 | sola\n",
      "Processing Record 24 of Set 3 | taoudenni\n",
      "Processing Record 25 of Set 3 | mogadishu\n",
      "Processing Record 26 of Set 3 | chokurdakh\n",
      "Processing Record 27 of Set 3 | sao filipe\n",
      "Processing Record 28 of Set 3 | muscat\n",
      "Processing Record 29 of Set 3 | kadhan\n",
      "Processing Record 30 of Set 3 | victoria point\n",
      "Processing Record 31 of Set 3 | hofn\n",
      "Processing Record 32 of Set 3 | suzun\n",
      "City not found. Skipping...\n",
      "Processing Record 33 of Set 3 | jamestown\n",
      "Processing Record 34 of Set 3 | nanortalik\n",
      "Processing Record 35 of Set 3 | qaanaaq\n",
      "Processing Record 36 of Set 3 | katsuura\n",
      "City not found. Skipping...\n",
      "Processing Record 37 of Set 3 | carnarvon\n",
      "Processing Record 38 of Set 3 | kourou\n",
      "Processing Record 39 of Set 3 | dapdap\n",
      "Processing Record 40 of Set 3 | alagoinhas\n",
      "Processing Record 41 of Set 3 | tandil\n",
      "Processing Record 42 of Set 3 | margate\n",
      "Processing Record 43 of Set 3 | lompoc\n",
      "Processing Record 44 of Set 3 | qiryat shemona\n",
      "Processing Record 45 of Set 3 | izamal\n",
      "Processing Record 46 of Set 3 | cherskiy\n",
      "Processing Record 47 of Set 3 | deputatskiy\n",
      "Processing Record 48 of Set 3 | georgetown\n",
      "Processing Record 49 of Set 3 | shache\n",
      "Processing Record 0 of Set 4 | tongliao\n",
      "Processing Record 1 of Set 4 | sao joao da barra\n",
      "Processing Record 2 of Set 4 | sharjah\n",
      "Processing Record 3 of Set 4 | lavrentiya\n",
      "Processing Record 4 of Set 4 | weihai\n",
      "Processing Record 5 of Set 4 | puerto ayora\n",
      "Processing Record 6 of Set 4 | bengkulu\n",
      "Processing Record 7 of Set 4 | gamba\n",
      "Processing Record 8 of Set 4 | hambantota\n",
      "Processing Record 9 of Set 4 | kupang\n",
      "Processing Record 10 of Set 4 | san cristobal\n",
      "Processing Record 11 of Set 4 | puteyets\n",
      "Processing Record 12 of Set 4 | lagoa\n",
      "Processing Record 13 of Set 4 | barrow\n",
      "Processing Record 14 of Set 4 | ndende\n",
      "Processing Record 15 of Set 4 | yellowknife\n",
      "Processing Record 16 of Set 4 | hualmay\n",
      "Processing Record 17 of Set 4 | marawi\n",
      "Processing Record 18 of Set 4 | kiama\n",
      "Processing Record 19 of Set 4 | lokosovo\n",
      "Processing Record 20 of Set 4 | denpasar\n",
      "Processing Record 21 of Set 4 | isangel\n",
      "Processing Record 22 of Set 4 | pochutla\n",
      "Processing Record 23 of Set 4 | nishihara\n",
      "Processing Record 24 of Set 4 | quelimane\n",
      "Processing Record 25 of Set 4 | souillac\n",
      "Processing Record 26 of Set 4 | iracoubo\n",
      "Processing Record 27 of Set 4 | orbetello\n",
      "Processing Record 28 of Set 4 | talnakh\n",
      "Processing Record 29 of Set 4 | kakamega\n",
      "Processing Record 30 of Set 4 | erenhot\n",
      "Processing Record 31 of Set 4 | mezhdurechensk\n",
      "Processing Record 32 of Set 4 | kutum\n",
      "Processing Record 33 of Set 4 | ust-tsilma\n",
      "Processing Record 34 of Set 4 | college\n",
      "Processing Record 35 of Set 4 | pacific grove\n",
      "Processing Record 36 of Set 4 | dubti\n",
      "Processing Record 37 of Set 4 | saint-philippe\n",
      "Processing Record 38 of Set 4 | new norfolk\n",
      "Processing Record 39 of Set 4 | portland\n",
      "Processing Record 40 of Set 4 | dieppe\n",
      "Processing Record 41 of Set 4 | ust-nera\n"
     ]
    },
    {
     "name": "stdout",
     "output_type": "stream",
     "text": [
      "City not found. Skipping...\n",
      "Processing Record 42 of Set 4 | constitucion\n",
      "Processing Record 43 of Set 4 | east london\n",
      "Processing Record 44 of Set 4 | port-gentil\n",
      "Processing Record 45 of Set 4 | butaritari\n",
      "Processing Record 46 of Set 4 | sakakah\n",
      "Processing Record 47 of Set 4 | the valley\n",
      "Processing Record 48 of Set 4 | bonavista\n",
      "Processing Record 49 of Set 4 | svecha\n",
      "Processing Record 0 of Set 5 | geraldton\n",
      "Processing Record 1 of Set 5 | malacacheta\n",
      "Processing Record 2 of Set 5 | mananjary\n",
      "Processing Record 3 of Set 5 | soyo\n",
      "Processing Record 4 of Set 5 | naryan-mar\n",
      "Processing Record 5 of Set 5 | poso\n",
      "Processing Record 6 of Set 5 | mareeba\n",
      "Processing Record 7 of Set 5 | kungurtug\n",
      "Processing Record 8 of Set 5 | mar del plata\n",
      "Processing Record 9 of Set 5 | taft\n",
      "Processing Record 10 of Set 5 | fare\n",
      "Processing Record 11 of Set 5 | pevek\n",
      "Processing Record 12 of Set 5 | whitehorse\n",
      "Processing Record 13 of Set 5 | mgandu\n",
      "Processing Record 14 of Set 5 | kuala terengganu\n",
      "Processing Record 15 of Set 5 | oistins\n",
      "City not found. Skipping...\n",
      "Processing Record 16 of Set 5 | parintins\n",
      "Processing Record 17 of Set 5 | alyangula\n",
      "Processing Record 18 of Set 5 | ilulissat\n",
      "Processing Record 19 of Set 5 | palana\n",
      "Processing Record 20 of Set 5 | tromso\n",
      "Processing Record 21 of Set 5 | san patricio\n",
      "Processing Record 22 of Set 5 | aguimes\n",
      "Processing Record 23 of Set 5 | clyde river\n",
      "Processing Record 24 of Set 5 | iacu\n",
      "Processing Record 25 of Set 5 | grand gaube\n",
      "Processing Record 26 of Set 5 | praia da vitoria\n",
      "Processing Record 27 of Set 5 | baykit\n",
      "Processing Record 28 of Set 5 | maragogi\n",
      "Processing Record 29 of Set 5 | san carlos\n",
      "Processing Record 30 of Set 5 | zyryanka\n",
      "Processing Record 31 of Set 5 | fort-shevchenko\n",
      "Processing Record 32 of Set 5 | itarema\n",
      "Processing Record 33 of Set 5 | mecca\n",
      "Processing Record 34 of Set 5 | kulhudhuffushi\n",
      "Processing Record 35 of Set 5 | sungairaya\n",
      "Processing Record 36 of Set 5 | sens\n",
      "Processing Record 37 of Set 5 | bhanpuri\n",
      "City not found. Skipping...\n",
      "Processing Record 38 of Set 5 | vilhena\n",
      "City not found. Skipping...\n",
      "Processing Record 39 of Set 5 | jalu\n",
      "Processing Record 40 of Set 5 | trinidad\n",
      "Processing Record 41 of Set 5 | maloy\n",
      "City not found. Skipping...\n",
      "Processing Record 42 of Set 5 | ilebo\n",
      "Processing Record 43 of Set 5 | bukama\n",
      "Processing Record 44 of Set 5 | diu\n",
      "City not found. Skipping...\n",
      "Processing Record 45 of Set 5 | vanimo\n",
      "Processing Record 46 of Set 5 | turochak\n",
      "Processing Record 47 of Set 5 | hargeysa\n",
      "Processing Record 48 of Set 5 | saldanha\n",
      "Processing Record 49 of Set 5 | komsomolskiy\n",
      "City not found. Skipping...\n",
      "Processing Record 0 of Set 6 | kampot\n",
      "Processing Record 1 of Set 6 | pampas\n",
      "Processing Record 2 of Set 6 | atar\n",
      "Processing Record 3 of Set 6 | norman wells\n",
      "Processing Record 4 of Set 6 | hamilton\n",
      "Processing Record 5 of Set 6 | waldkirch\n",
      "Processing Record 6 of Set 6 | ivdel\n",
      "Processing Record 7 of Set 6 | zherdevka\n",
      "Processing Record 8 of Set 6 | muros\n",
      "Processing Record 9 of Set 6 | tanout\n",
      "Processing Record 10 of Set 6 | tuatapere\n",
      "Processing Record 11 of Set 6 | sabang\n",
      "City not found. Skipping...\n",
      "Processing Record 12 of Set 6 | key west\n",
      "Processing Record 13 of Set 6 | ladario\n",
      "Processing Record 14 of Set 6 | concordia\n",
      "Processing Record 15 of Set 6 | requena\n",
      "Processing Record 16 of Set 6 | nicoya\n",
      "Processing Record 17 of Set 6 | saint-joseph\n",
      "Processing Record 18 of Set 6 | kruisfontein\n",
      "Processing Record 19 of Set 6 | kade\n",
      "Processing Record 20 of Set 6 | paamiut\n",
      "Processing Record 21 of Set 6 | lesnoy\n",
      "Processing Record 22 of Set 6 | provideniya\n",
      "Processing Record 23 of Set 6 | laguna\n",
      "Processing Record 24 of Set 6 | luderitz\n",
      "Processing Record 25 of Set 6 | tigil\n",
      "Processing Record 26 of Set 6 | anchorage\n",
      "Processing Record 27 of Set 6 | ketchikan\n",
      "Processing Record 28 of Set 6 | buta\n",
      "Processing Record 29 of Set 6 | fallon\n",
      "Processing Record 30 of Set 6 | bambous virieux\n",
      "Processing Record 31 of Set 6 | belyy yar\n",
      "Processing Record 32 of Set 6 | westport\n",
      "City not found. Skipping...\n",
      "City not found. Skipping...\n",
      "Processing Record 33 of Set 6 | wanxian\n",
      "Processing Record 34 of Set 6 | padang\n",
      "City not found. Skipping...\n",
      "Processing Record 35 of Set 6 | sorong\n",
      "Processing Record 36 of Set 6 | vanavara\n",
      "Processing Record 37 of Set 6 | airai\n",
      "Processing Record 38 of Set 6 | salalah\n",
      "Processing Record 39 of Set 6 | maningrida\n",
      "Processing Record 40 of Set 6 | kuusamo\n",
      "Processing Record 41 of Set 6 | sechura\n",
      "Processing Record 42 of Set 6 | meulaboh\n",
      "Processing Record 43 of Set 6 | sheridan\n",
      "Processing Record 44 of Set 6 | krasnoselkup\n",
      "Processing Record 45 of Set 6 | jawhar\n",
      "Processing Record 46 of Set 6 | abha\n",
      "Processing Record 47 of Set 6 | torbay\n",
      "Processing Record 48 of Set 6 | orichi\n",
      "Processing Record 49 of Set 6 | arkhara\n",
      "Processing Record 0 of Set 7 | la asuncion\n",
      "Processing Record 1 of Set 7 | clovis\n",
      "Processing Record 2 of Set 7 | plopana\n",
      "City not found. Skipping...\n",
      "Processing Record 3 of Set 7 | le port\n",
      "Processing Record 4 of Set 7 | dakar\n",
      "Processing Record 5 of Set 7 | beringovskiy\n",
      "Processing Record 6 of Set 7 | batagay-alyta\n",
      "Processing Record 7 of Set 7 | alofi\n",
      "Processing Record 8 of Set 7 | kenitra\n",
      "Processing Record 9 of Set 7 | bossier city\n",
      "City not found. Skipping...\n",
      "Processing Record 10 of Set 7 | abapo\n",
      "Processing Record 11 of Set 7 | waddan\n",
      "Processing Record 12 of Set 7 | vila franca do campo\n",
      "Processing Record 13 of Set 7 | simao\n",
      "Processing Record 14 of Set 7 | achinsk\n",
      "Processing Record 15 of Set 7 | pandan\n",
      "City not found. Skipping...\n",
      "City not found. Skipping...\n",
      "Processing Record 16 of Set 7 | carballo\n",
      "Processing Record 17 of Set 7 | parrita\n",
      "Processing Record 18 of Set 7 | saint george\n",
      "Processing Record 19 of Set 7 | rocha\n",
      "Processing Record 20 of Set 7 | nizhneangarsk\n",
      "Processing Record 21 of Set 7 | sorland\n",
      "City not found. Skipping...\n",
      "Processing Record 22 of Set 7 | atambua\n",
      "Processing Record 23 of Set 7 | brae\n",
      "Processing Record 24 of Set 7 | kununurra\n",
      "Processing Record 25 of Set 7 | port lincoln\n",
      "Processing Record 26 of Set 7 | coahuayana\n",
      "Processing Record 27 of Set 7 | pierre\n",
      "Processing Record 28 of Set 7 | nichinan\n",
      "Processing Record 29 of Set 7 | yar-sale\n",
      "Processing Record 30 of Set 7 | vilkaviskis\n",
      "Processing Record 31 of Set 7 | dunedin\n",
      "Processing Record 32 of Set 7 | madison\n",
      "Processing Record 33 of Set 7 | martinsville\n",
      "Processing Record 34 of Set 7 | macomb\n",
      "Processing Record 35 of Set 7 | biak\n",
      "Processing Record 36 of Set 7 | bilibino\n",
      "Processing Record 37 of Set 7 | leshan\n",
      "Processing Record 38 of Set 7 | wajima\n",
      "Processing Record 39 of Set 7 | wangaratta\n",
      "Processing Record 40 of Set 7 | onega\n",
      "Processing Record 41 of Set 7 | tura\n",
      "Processing Record 42 of Set 7 | leningradskiy\n",
      "Processing Record 43 of Set 7 | mount kisco\n",
      "Processing Record 44 of Set 7 | srednekolymsk\n",
      "Processing Record 45 of Set 7 | berlevag\n",
      "Processing Record 46 of Set 7 | montorio al vomano\n",
      "Processing Record 47 of Set 7 | taos\n",
      "Processing Record 48 of Set 7 | winnemucca\n",
      "Processing Record 49 of Set 7 | progreso\n",
      "Processing Record 0 of Set 8 | nome\n",
      "Processing Record 1 of Set 8 | trairi\n",
      "Processing Record 2 of Set 8 | palmer\n",
      "Processing Record 3 of Set 8 | olinda\n",
      "Processing Record 4 of Set 8 | asau\n",
      "Processing Record 5 of Set 8 | ponta do sol\n",
      "Processing Record 6 of Set 8 | codrington\n",
      "Processing Record 7 of Set 8 | ulaanbaatar\n",
      "Processing Record 8 of Set 8 | weyburn\n",
      "Processing Record 9 of Set 8 | gijon\n",
      "Processing Record 10 of Set 8 | strezhevoy\n",
      "Processing Record 11 of Set 8 | mehamn\n",
      "Processing Record 12 of Set 8 | porto novo\n",
      "Processing Record 13 of Set 8 | kavieng\n",
      "Processing Record 14 of Set 8 | vila velha\n",
      "City not found. Skipping...\n",
      "Processing Record 15 of Set 8 | balikpapan\n",
      "Processing Record 16 of Set 8 | narsaq\n",
      "Processing Record 17 of Set 8 | ordynskoye\n",
      "Processing Record 18 of Set 8 | beisfjord\n",
      "Processing Record 19 of Set 8 | esperance\n",
      "Processing Record 20 of Set 8 | manggar\n",
      "Processing Record 21 of Set 8 | pyinmana\n",
      "Processing Record 22 of Set 8 | iquique\n",
      "Processing Record 23 of Set 8 | tucurui\n",
      "Processing Record 24 of Set 8 | batemans bay\n",
      "Processing Record 25 of Set 8 | sobolevo\n",
      "Processing Record 26 of Set 8 | haines junction\n",
      "Processing Record 27 of Set 8 | morris\n",
      "Processing Record 28 of Set 8 | emba\n",
      "Processing Record 29 of Set 8 | kasongo\n",
      "Processing Record 30 of Set 8 | omboue\n",
      "Processing Record 31 of Set 8 | uvalde\n",
      "Processing Record 32 of Set 8 | camacha\n"
     ]
    },
    {
     "name": "stdout",
     "output_type": "stream",
     "text": [
      "Processing Record 33 of Set 8 | marieville\n",
      "Processing Record 34 of Set 8 | rio gallegos\n",
      "City not found. Skipping...\n",
      "Processing Record 35 of Set 8 | tagusao\n",
      "City not found. Skipping...\n",
      "Processing Record 36 of Set 8 | la sarre\n",
      "Processing Record 37 of Set 8 | conroe\n",
      "Processing Record 38 of Set 8 | sao gabriel da cachoeira\n",
      "Processing Record 39 of Set 8 | iranshahr\n",
      "Processing Record 40 of Set 8 | mallaig\n",
      "Processing Record 41 of Set 8 | lasa\n",
      "Processing Record 42 of Set 8 | lagos\n",
      "Processing Record 43 of Set 8 | yulara\n",
      "Processing Record 44 of Set 8 | nkwerre\n",
      "Processing Record 45 of Set 8 | grindavik\n",
      "Processing Record 46 of Set 8 | sandy bay\n",
      "Processing Record 47 of Set 8 | melville\n",
      "Processing Record 48 of Set 8 | loandjili\n",
      "Processing Record 49 of Set 8 | inhambane\n",
      "Processing Record 0 of Set 9 | mae hong son\n",
      "Processing Record 1 of Set 9 | diapaga\n",
      "Processing Record 2 of Set 9 | grants\n",
      "Processing Record 3 of Set 9 | hasaki\n",
      "Processing Record 4 of Set 9 | udachnyy\n",
      "Processing Record 5 of Set 9 | garowe\n",
      "Processing Record 6 of Set 9 | halifax\n",
      "Processing Record 7 of Set 9 | cap malheureux\n",
      "Processing Record 8 of Set 9 | te anau\n",
      "Processing Record 9 of Set 9 | kropotkin\n",
      "Processing Record 10 of Set 9 | hearst\n",
      "City not found. Skipping...\n",
      "Processing Record 11 of Set 9 | buchanan\n",
      "Processing Record 12 of Set 9 | salem\n",
      "City not found. Skipping...\n",
      "Processing Record 13 of Set 9 | kahului\n",
      "Processing Record 14 of Set 9 | aykhal\n",
      "Processing Record 15 of Set 9 | astana\n",
      "Processing Record 16 of Set 9 | soe\n",
      "Processing Record 17 of Set 9 | guaratinga\n",
      "Processing Record 18 of Set 9 | rawson\n",
      "Processing Record 19 of Set 9 | vao\n",
      "Processing Record 20 of Set 9 | port hedland\n",
      "Processing Record 21 of Set 9 | mahibadhoo\n",
      "Processing Record 22 of Set 9 | cayenne\n",
      "Processing Record 23 of Set 9 | guasdualito\n",
      "Processing Record 24 of Set 9 | bud\n",
      "City not found. Skipping...\n",
      "Processing Record 25 of Set 9 | mwene-ditu\n",
      "Processing Record 26 of Set 9 | kirakira\n",
      "Processing Record 27 of Set 9 | namibe\n",
      "Processing Record 28 of Set 9 | mata\n",
      "Processing Record 29 of Set 9 | adrar\n",
      "Processing Record 30 of Set 9 | humaita\n",
      "Processing Record 31 of Set 9 | acari\n",
      "Processing Record 32 of Set 9 | gao\n",
      "Processing Record 33 of Set 9 | pisco\n",
      "Processing Record 34 of Set 9 | loralai\n",
      "Processing Record 35 of Set 9 | dingle\n",
      "Processing Record 36 of Set 9 | ucluelet\n",
      "Processing Record 37 of Set 9 | guerrero negro\n",
      "Processing Record 38 of Set 9 | esna\n",
      "Processing Record 39 of Set 9 | laramie\n",
      "Processing Record 40 of Set 9 | granada\n",
      "Processing Record 41 of Set 9 | uinskoye\n",
      "Processing Record 42 of Set 9 | akyab\n",
      "Processing Record 43 of Set 9 | zhezkazgan\n",
      "Processing Record 44 of Set 9 | muroto\n",
      "Processing Record 45 of Set 9 | los llanos de aridane\n",
      "Processing Record 46 of Set 9 | alta floresta\n",
      "City not found. Skipping...\n",
      "Processing Record 47 of Set 9 | angoche\n",
      "Processing Record 48 of Set 9 | rincon\n",
      "Processing Record 49 of Set 9 | la ronge\n",
      "Processing Record 0 of Set 10 | deer park\n",
      "Processing Record 1 of Set 10 | sun city west\n",
      "Processing Record 2 of Set 10 | predivinsk\n",
      "Processing Record 3 of Set 10 | beian\n",
      "Processing Record 4 of Set 10 | yuxia\n",
      "Processing Record 5 of Set 10 | batagay\n",
      "Processing Record 6 of Set 10 | aanekoski\n",
      "Processing Record 7 of Set 10 | maku\n",
      "Processing Record 8 of Set 10 | batticaloa\n",
      "Processing Record 9 of Set 10 | melito di porto salvo\n",
      "Processing Record 10 of Set 10 | ascension\n",
      "Processing Record 11 of Set 10 | plettenberg bay\n",
      "Processing Record 12 of Set 10 | baglung\n",
      "City not found. Skipping...\n",
      "Processing Record 13 of Set 10 | roma\n",
      "Processing Record 14 of Set 10 | tambura\n",
      "Processing Record 15 of Set 10 | saint anthony\n",
      "Processing Record 16 of Set 10 | ust-maya\n",
      "Processing Record 17 of Set 10 | hurghada\n",
      "City not found. Skipping...\n",
      "Processing Record 18 of Set 10 | maniitsoq\n",
      "Processing Record 19 of Set 10 | nuuk\n",
      "Processing Record 20 of Set 10 | srivardhan\n",
      "Processing Record 21 of Set 10 | san lorenzo\n",
      "Processing Record 22 of Set 10 | benguela\n",
      "Processing Record 23 of Set 10 | west richland\n",
      "Processing Record 24 of Set 10 | guarda\n",
      "Processing Record 25 of Set 10 | pitimbu\n",
      "Processing Record 26 of Set 10 | dabakala\n",
      "Processing Record 27 of Set 10 | pathein\n",
      "Processing Record 28 of Set 10 | honiara\n",
      "City not found. Skipping...\n",
      "Processing Record 29 of Set 10 | mackay\n",
      "Processing Record 30 of Set 10 | leshukonskoye\n",
      "Processing Record 31 of Set 10 | kenai\n",
      "Processing Record 32 of Set 10 | namatanai\n",
      "City not found. Skipping...\n",
      "Processing Record 33 of Set 10 | princeton\n",
      "Processing Record 34 of Set 10 | touros\n",
      "Processing Record 35 of Set 10 | salinopolis\n",
      "Processing Record 36 of Set 10 | tecoman\n",
      "Processing Record 37 of Set 10 | albemarle\n",
      "Processing Record 38 of Set 10 | poya\n",
      "Processing Record 39 of Set 10 | xai-xai\n",
      "Processing Record 40 of Set 10 | ibra\n",
      "Processing Record 41 of Set 10 | santa maria\n",
      "Processing Record 42 of Set 10 | puerto escondido\n",
      "Processing Record 43 of Set 10 | oriximina\n",
      "Processing Record 44 of Set 10 | holme\n",
      "Processing Record 45 of Set 10 | christchurch\n",
      "Processing Record 46 of Set 10 | aksarayskiy\n",
      "Processing Record 47 of Set 10 | baltay\n",
      "Processing Record 48 of Set 10 | lazaro cardenas\n",
      "Processing Record 49 of Set 10 | arica\n",
      "Processing Record 0 of Set 11 | port blair\n",
      "Processing Record 1 of Set 11 | arlit\n",
      "Processing Record 2 of Set 11 | ponta delgada\n",
      "City not found. Skipping...\n",
      "Processing Record 3 of Set 11 | trincomalee\n",
      "Processing Record 4 of Set 11 | barra\n",
      "Processing Record 5 of Set 11 | matara\n",
      "Processing Record 6 of Set 11 | port moresby\n",
      "Processing Record 7 of Set 11 | znamenskoye\n",
      "Processing Record 8 of Set 11 | nizhnyaya tavda\n",
      "Processing Record 9 of Set 11 | dharchula\n",
      "Processing Record 10 of Set 11 | kachiry\n",
      "Processing Record 11 of Set 11 | calabozo\n",
      "City not found. Skipping...\n",
      "Processing Record 12 of Set 11 | siocon\n",
      "Processing Record 13 of Set 11 | cubara\n",
      "Processing Record 14 of Set 11 | bryan\n",
      "Processing Record 15 of Set 11 | samarinda\n",
      "Processing Record 16 of Set 11 | novoagansk\n",
      "Processing Record 17 of Set 11 | vrangel\n",
      "Processing Record 18 of Set 11 | alvorada\n",
      "Processing Record 19 of Set 11 | fairbanks\n",
      "Processing Record 20 of Set 11 | puerto del rosario\n",
      "Processing Record 21 of Set 11 | staryy nadym\n",
      "Processing Record 22 of Set 11 | nantucket\n",
      "Processing Record 23 of Set 11 | pennadam\n",
      "Processing Record 24 of Set 11 | paita\n",
      "Processing Record 25 of Set 11 | chapayevka\n",
      "Processing Record 26 of Set 11 | dolinsk\n",
      "Processing Record 27 of Set 11 | saint-leu\n",
      "Processing Record 28 of Set 11 | nizhniy kuranakh\n",
      "Processing Record 29 of Set 11 | teplyk\n",
      "Processing Record 30 of Set 11 | tabas\n",
      "City not found. Skipping...\n",
      "Processing Record 31 of Set 11 | malakal\n",
      "Processing Record 32 of Set 11 | garoua\n",
      "Processing Record 33 of Set 11 | porto walter\n",
      "Processing Record 34 of Set 11 | aksu\n",
      "Processing Record 35 of Set 11 | skjervoy\n",
      "Processing Record 36 of Set 11 | chikwawa\n",
      "Processing Record 37 of Set 11 | gat\n",
      "Processing Record 38 of Set 11 | olafsvik\n",
      "Processing Record 39 of Set 11 | itaituba\n",
      "Processing Record 40 of Set 11 | mopti\n",
      "Processing Record 41 of Set 11 | cahors\n",
      "Processing Record 42 of Set 11 | okha\n",
      "Processing Record 43 of Set 11 | dicabisagan\n",
      "Processing Record 44 of Set 11 | dom pedrito\n",
      "Processing Record 45 of Set 11 | newton stewart\n",
      "Processing Record 46 of Set 11 | pitsunda\n",
      "Processing Record 47 of Set 11 | vilyuysk\n",
      "Processing Record 48 of Set 11 | auki\n",
      "Processing Record 49 of Set 11 | aguai\n",
      "Processing Record 0 of Set 12 | vokhma\n",
      "Processing Record 1 of Set 12 | mizdah\n",
      "Processing Record 2 of Set 12 | tazmalt\n",
      "Processing Record 3 of Set 12 | honningsvag\n",
      "Processing Record 4 of Set 12 | pangody\n",
      "Processing Record 5 of Set 12 | vardo\n",
      "Processing Record 6 of Set 12 | mitsamiouli\n",
      "Processing Record 7 of Set 12 | leh\n",
      "Processing Record 8 of Set 12 | treinta y tres\n",
      "Processing Record 9 of Set 12 | sereflikochisar\n",
      "Processing Record 10 of Set 12 | hohhot\n",
      "Processing Record 11 of Set 12 | fort dodge\n",
      "City not found. Skipping...\n",
      "-----------------------------\n",
      "Data Retrieval Complete\n",
      "-----------------------------\n"
     ]
    }
   ],
   "source": [
    "url = \"http://api.openweathermap.org/data/2.5/weather?\"\n",
    "count = 0\n",
    "set_count = 1\n",
    "city_name = []\n",
    "cloudiness = []\n",
    "country = []\n",
    "date = []\n",
    "humidity = []\n",
    "lat = []\n",
    "lng = []\n",
    "max_temp = []\n",
    "wind_speed = []\n",
    "\n",
    "print('Beginning Data Retrieval')\n",
    "print('-----------------------------')\n",
    "\n",
    "for city in cities:\n",
    "    params = {\n",
    "        'q': city,\n",
    "        'appid': weather_api_key\n",
    "    }\n",
    "    \n",
    "    #Catching non 200 response\n",
    "    try:\n",
    "        response = requests.get(url, params=params)\n",
    "        response.raise_for_status()\n",
    "        data = response.json()\n",
    "        \n",
    "        if count < 49:\n",
    "            count += 1\n",
    "        else:\n",
    "            count = 0\n",
    "            set_count += 1\n",
    "                \n",
    "        print(f'Processing Record {count} of Set {set_count} | {city}')\n",
    "        \n",
    "        city_name.append(city)\n",
    "        cloudiness.append(data['clouds']['all'])\n",
    "        country.append(data['sys']['country'])\n",
    "        date.append(data['dt'])\n",
    "        humidity.append(data['main']['humidity'])\n",
    "        lat.append(data['coord']['lat'])\n",
    "        lng.append(data['coord']['lon'])\n",
    "        max_temp.append(round((data['main']['temp_max'] * (9/5) - 459.67), 2))\n",
    "        wind_speed.append(round(data['wind']['speed'] * 2.237, 2))\n",
    "        \n",
    "    except requests.exceptions.HTTPError as e:\n",
    "        print(f\"City not found. Skipping...\")\n",
    "\n",
    "print(\"-----------------------------\\nData Retrieval Complete\\n-----------------------------\")\n",
    "    "
   ]
  },
  {
   "cell_type": "markdown",
   "metadata": {},
   "source": [
    "### Convert Raw Data to DataFrame\n",
    "* Export the city data into a .csv.\n",
    "* Display the DataFrame"
   ]
  },
  {
   "cell_type": "code",
   "execution_count": 274,
   "metadata": {},
   "outputs": [
    {
     "data": {
      "text/plain": [
       "City          561\n",
       "Cloudiness    561\n",
       "Country       561\n",
       "Date          561\n",
       "Humidity      561\n",
       "Lat           561\n",
       "Lng           561\n",
       "Max Temp      561\n",
       "Wind Speed    561\n",
       "dtype: int64"
      ]
     },
     "execution_count": 274,
     "metadata": {},
     "output_type": "execute_result"
    }
   ],
   "source": [
    "df_dict = {\n",
    "    'City': city_name,\n",
    "    'Cloudiness': cloudiness,\n",
    "    'Country': country,\n",
    "    'Date': date,\n",
    "    'Humidity': humidity,\n",
    "    'Lat': lat,\n",
    "    'Lng': lng,\n",
    "    'Max Temp': max_temp,\n",
    "    'Wind Speed': wind_speed\n",
    "}\n",
    "\n",
    "df = pd.DataFrame(df_dict)\n",
    "df.to_csv('Weather_Data.csv', index = False)\n",
    "df.count()"
   ]
  },
  {
   "cell_type": "code",
   "execution_count": 276,
   "metadata": {},
   "outputs": [
    {
     "data": {
      "text/html": [
       "<div>\n",
       "<style scoped>\n",
       "    .dataframe tbody tr th:only-of-type {\n",
       "        vertical-align: middle;\n",
       "    }\n",
       "\n",
       "    .dataframe tbody tr th {\n",
       "        vertical-align: top;\n",
       "    }\n",
       "\n",
       "    .dataframe thead th {\n",
       "        text-align: right;\n",
       "    }\n",
       "</style>\n",
       "<table border=\"1\" class=\"dataframe\">\n",
       "  <thead>\n",
       "    <tr style=\"text-align: right;\">\n",
       "      <th></th>\n",
       "      <th>City</th>\n",
       "      <th>Cloudiness</th>\n",
       "      <th>Country</th>\n",
       "      <th>Date</th>\n",
       "      <th>Humidity</th>\n",
       "      <th>Lat</th>\n",
       "      <th>Lng</th>\n",
       "      <th>Max Temp</th>\n",
       "      <th>Wind Speed</th>\n",
       "    </tr>\n",
       "  </thead>\n",
       "  <tbody>\n",
       "    <tr>\n",
       "      <th>0</th>\n",
       "      <td>karratha</td>\n",
       "      <td>0</td>\n",
       "      <td>AU</td>\n",
       "      <td>1584317309</td>\n",
       "      <td>75</td>\n",
       "      <td>-20.74</td>\n",
       "      <td>116.85</td>\n",
       "      <td>84.09</td>\n",
       "      <td>13.51</td>\n",
       "    </tr>\n",
       "    <tr>\n",
       "      <th>1</th>\n",
       "      <td>yumen</td>\n",
       "      <td>55</td>\n",
       "      <td>CN</td>\n",
       "      <td>1584317310</td>\n",
       "      <td>40</td>\n",
       "      <td>40.28</td>\n",
       "      <td>97.20</td>\n",
       "      <td>27.72</td>\n",
       "      <td>0.31</td>\n",
       "    </tr>\n",
       "    <tr>\n",
       "      <th>2</th>\n",
       "      <td>hobart</td>\n",
       "      <td>20</td>\n",
       "      <td>AU</td>\n",
       "      <td>1584317267</td>\n",
       "      <td>58</td>\n",
       "      <td>-42.88</td>\n",
       "      <td>147.33</td>\n",
       "      <td>63.00</td>\n",
       "      <td>5.82</td>\n",
       "    </tr>\n",
       "    <tr>\n",
       "      <th>3</th>\n",
       "      <td>castro</td>\n",
       "      <td>7</td>\n",
       "      <td>BR</td>\n",
       "      <td>1584317310</td>\n",
       "      <td>78</td>\n",
       "      <td>-24.79</td>\n",
       "      <td>-50.01</td>\n",
       "      <td>67.95</td>\n",
       "      <td>3.47</td>\n",
       "    </tr>\n",
       "    <tr>\n",
       "      <th>4</th>\n",
       "      <td>nikolskoye</td>\n",
       "      <td>82</td>\n",
       "      <td>RU</td>\n",
       "      <td>1584317310</td>\n",
       "      <td>55</td>\n",
       "      <td>59.70</td>\n",
       "      <td>30.79</td>\n",
       "      <td>35.01</td>\n",
       "      <td>8.95</td>\n",
       "    </tr>\n",
       "  </tbody>\n",
       "</table>\n",
       "</div>"
      ],
      "text/plain": [
       "         City  Cloudiness Country        Date  Humidity    Lat     Lng  \\\n",
       "0    karratha           0      AU  1584317309        75 -20.74  116.85   \n",
       "1       yumen          55      CN  1584317310        40  40.28   97.20   \n",
       "2      hobart          20      AU  1584317267        58 -42.88  147.33   \n",
       "3      castro           7      BR  1584317310        78 -24.79  -50.01   \n",
       "4  nikolskoye          82      RU  1584317310        55  59.70   30.79   \n",
       "\n",
       "   Max Temp  Wind Speed  \n",
       "0     84.09       13.51  \n",
       "1     27.72        0.31  \n",
       "2     63.00        5.82  \n",
       "3     67.95        3.47  \n",
       "4     35.01        8.95  "
      ]
     },
     "execution_count": 276,
     "metadata": {},
     "output_type": "execute_result"
    }
   ],
   "source": [
    "df.head()"
   ]
  },
  {
   "cell_type": "markdown",
   "metadata": {},
   "source": [
    "### Plotting the Data\n",
    "* Use proper labeling of the plots using plot titles (including date of analysis) and axes labels.\n",
    "* Save the plotted figures as .pngs."
   ]
  },
  {
   "cell_type": "markdown",
   "metadata": {},
   "source": [
    "#### Latitude vs. Temperature Plot"
   ]
  },
  {
   "cell_type": "code",
   "execution_count": 296,
   "metadata": {
    "scrolled": true
   },
   "outputs": [
    {
     "data": {
      "image/png": "[encoded data removed]",
      "text/plain": [
       "<Figure size 432x288 with 1 Axes>"
      ]
     },
     "metadata": {
      "needs_background": "light"
     },
     "output_type": "display_data"
    }
   ],
   "source": [
    "plt.scatter(df['Lat'], df['Max Temp'], facecolors='aqua', edgecolors='black')\n",
    "plt.xlabel('Latitude')\n",
    "plt.ylabel('Max Temperature (F)')\n",
    "str_date = datetime.utcfromtimestamp(df.loc[0, 'Date']).strftime('%m/%d/%y')\n",
    "plt.title(f'City Latitude vs. Max Temperature {str_date}')\n",
    "plt.show()"
   ]
  },
  {
   "cell_type": "markdown",
   "metadata": {},
   "source": [
    "The graph is a bit skewed because there are more northern hemisphere data points than southern hemisphere, but you can clearly see a pattern that as you move further away from 0 Latitude (equator), the Max Temp begins to drop."
   ]
  },
  {
   "cell_type": "markdown",
   "metadata": {},
   "source": [
    "#### Latitude vs. Humidity Plot"
   ]
  },
  {
   "cell_type": "code",
   "execution_count": 278,
   "metadata": {},
   "outputs": [
    {
     "data": {
      "image/png": "[encoded data removed]",
      "text/plain": [
       "<Figure size 432x288 with 1 Axes>"
      ]
     },
     "metadata": {
      "needs_background": "light"
     },
     "output_type": "display_data"
    }
   ],
   "source": [
    "plt.scatter(df['Lat'], df['Humidity'], facecolors='aqua', edgecolors='black')\n",
    "plt.xlabel('Latitude')\n",
    "plt.ylabel('Humidity')\n",
    "plt.title(f'City Latitude vs. Humidity {str_date}')\n",
    "plt.show()"
   ]
  },
  {
   "cell_type": "markdown",
   "metadata": {},
   "source": [
    "This graph shows that there is no real relationship between Latitude and Humidity."
   ]
  },
  {
   "cell_type": "markdown",
   "metadata": {},
   "source": [
    "#### Latitude vs. Cloudiness Plot"
   ]
  },
  {
   "cell_type": "code",
   "execution_count": 279,
   "metadata": {},
   "outputs": [
    {
     "data": {
      "image/png": "[encoded data removed]",
      "text/plain": [
       "<Figure size 432x288 with 1 Axes>"
      ]
     },
     "metadata": {
      "needs_background": "light"
     },
     "output_type": "display_data"
    }
   ],
   "source": [
    "plt.scatter(df['Lat'], df['Cloudiness'], facecolors='aqua', edgecolors='black')\n",
    "plt.xlabel('Latitude')\n",
    "plt.ylabel('Cloudiness')\n",
    "plt.title(f'City Latitude vs. Cloudiness {str_date}')\n",
    "plt.show()"
   ]
  },
  {
   "cell_type": "markdown",
   "metadata": {},
   "source": [
    "This graph shows that there is no real relationship between Latitude and Cloudiness."
   ]
  },
  {
   "cell_type": "markdown",
   "metadata": {},
   "source": [
    "#### Latitude vs. Wind Speed Plot"
   ]
  },
  {
   "cell_type": "code",
   "execution_count": 280,
   "metadata": {},
   "outputs": [
    {
     "data": {
      "image/png": "[encoded data removed]",
      "text/plain": [
       "<Figure size 432x288 with 1 Axes>"
      ]
     },
     "metadata": {
      "needs_background": "light"
     },
     "output_type": "display_data"
    }
   ],
   "source": [
    "plt.scatter(df['Lat'], df['Wind Speed'], facecolors='aqua', edgecolors='black')\n",
    "plt.xlabel('Latitude')\n",
    "plt.ylabel('Wind Speed')\n",
    "plt.title(f'City Latitude vs. Wind Speed {str_date}')\n",
    "plt.show()"
   ]
  },
  {
   "cell_type": "markdown",
   "metadata": {},
   "source": [
    "This graph shows that there is no real relationship between Latitude and Wind Speed."
   ]
  },
  {
   "cell_type": "markdown",
   "metadata": {},
   "source": [
    "## Linear Regression"
   ]
  },
  {
   "cell_type": "code",
   "execution_count": 300,
   "metadata": {},
   "outputs": [],
   "source": [
    "# OPTIONAL: Create a function to create Linear Regression plots\n",
    "def plot_regress_line(x_values, y_values):   \n",
    "    (slope, intercept, rvalue, pvalue, stderr) = linregress(x_values, y_values)\n",
    "    regress_values = x_values * slope + intercept\n",
    "    line_eq = \"y = \" + str(round(slope,2)) + \"x + \" + str(round(intercept,2))\n",
    "    plt.plot(x_values,regress_values,\"r-\")\n",
    "    return {rvalue, line_eq}"
   ]
  },
  {
   "cell_type": "code",
   "execution_count": 301,
   "metadata": {},
   "outputs": [],
   "source": [
    "# Create Northern and Southern Hemisphere DataFrames\n",
    "south_df = df[df['Lat'] < 0]\n",
    "north_df = df[df['Lat'] > 0]"
   ]
  },
  {
   "cell_type": "markdown",
   "metadata": {},
   "source": [
    "####  Northern Hemisphere - Max Temp vs. Latitude Linear Regression"
   ]
  },
  {
   "cell_type": "code",
   "execution_count": 285,
   "metadata": {},
   "outputs": [
    {
     "name": "stdout",
     "output_type": "stream",
     "text": [
      "The r-squared is: -0.8962709593425668\n"
     ]
    },
    {
     "data": {
      "image/png": "[encoded data removed]",
      "text/plain": [
       "<Figure size 432x288 with 1 Axes>"
      ]
     },
     "metadata": {
      "needs_background": "light"
     },
     "output_type": "display_data"
    }
   ],
   "source": [
    "plt.scatter(north_df['Lat'], north_df['Max Temp'], facecolors='aqua', edgecolors='black')\n",
    "plt.xlabel('Latitude')\n",
    "plt.ylabel('Max Temp')\n",
    "rvalue, line_eq = plot_regress_line(north_df['Lat'], north_df['Max Temp'])\n",
    "plt.annotate(line_eq,(0,-20),fontsize=15,color=\"red\")\n",
    "print(f\"The r-squared is: {rvalue}\")\n",
    "plt.show()"
   ]
  },
  {
   "cell_type": "markdown",
   "metadata": {},
   "source": [
    "The linear regression shows a negative correlation between latitude and max temp. As you move further north away from 0 lat, the Max Temp moves torwards a negative value."
   ]
  },
  {
   "cell_type": "markdown",
   "metadata": {},
   "source": [
    "####  Southern Hemisphere - Max Temp vs. Latitude Linear Regression"
   ]
  },
  {
   "cell_type": "code",
   "execution_count": 286,
   "metadata": {},
   "outputs": [
    {
     "name": "stdout",
     "output_type": "stream",
     "text": [
      "The r-squared is: 0.6335354550361321\n"
     ]
    },
    {
     "data": {
      "image/png": "[encoded data removed]",
      "text/plain": [
       "<Figure size 432x288 with 1 Axes>"
      ]
     },
     "metadata": {
      "needs_background": "light"
     },
     "output_type": "display_data"
    }
   ],
   "source": [
    "plt.scatter(south_df['Lat'], south_df['Max Temp'], facecolors='aqua', edgecolors='black')\n",
    "plt.xlabel('Latitude')\n",
    "plt.ylabel('Max Temp')\n",
    "rvalue, line_eq = plot_regress_line(south_df['Lat'], south_df['Max Temp'])\n",
    "plt.annotate(line_eq,(-30,50),fontsize=15,color=\"red\")\n",
    "print(f\"The r-squared is: {rvalue}\")\n",
    "plt.show()"
   ]
  },
  {
   "cell_type": "markdown",
   "metadata": {},
   "source": [
    "The linear regression shows a positive correlation between latitude and max temp for the southern hemisphere. As you move towards the equator from the furthest souther point, the max temp moves torwards higher positive values."
   ]
  },
  {
   "cell_type": "markdown",
   "metadata": {},
   "source": [
    "####  Northern Hemisphere - Humidity (%) vs. Latitude Linear Regression"
   ]
  },
  {
   "cell_type": "code",
   "execution_count": 302,
   "metadata": {},
   "outputs": [
    {
     "name": "stdout",
     "output_type": "stream",
     "text": [
      "The r-squared is: 0.23522991954463243\n"
     ]
    },
    {
     "data": {
      "image/png": "[encoded data removed]",
      "text/plain": [
       "<Figure size 432x288 with 1 Axes>"
      ]
     },
     "metadata": {
      "needs_background": "light"
     },
     "output_type": "display_data"
    }
   ],
   "source": [
    "plt.scatter(north_df['Lat'], north_df['Humidity'], facecolors='aqua', edgecolors='black')\n",
    "plt.xlabel('Latitude')\n",
    "plt.ylabel('Humidity')\n",
    "rvalue, line_eq = plot_regress_line(north_df['Lat'], north_df['Humidity'])\n",
    "plt.annotate(line_eq,(40,20),fontsize=15,color=\"red\")\n",
    "print(f\"The r-squared is: {rvalue}\")\n",
    "plt.show()"
   ]
  },
  {
   "cell_type": "markdown",
   "metadata": {},
   "source": [
    "The linear regression shows little to no correlation between humidity and latitude in the northern hemisphere."
   ]
  },
  {
   "cell_type": "markdown",
   "metadata": {},
   "source": [
    "####  Southern Hemisphere - Humidity (%) vs. Latitude Linear Regression"
   ]
  },
  {
   "cell_type": "code",
   "execution_count": 303,
   "metadata": {},
   "outputs": [
    {
     "name": "stdout",
     "output_type": "stream",
     "text": [
      "The r-squared is: 0.33178409040906337\n"
     ]
    },
    {
     "data": {
      "image/png": "[encoded data removed]",
      "text/plain": [
       "<Figure size 432x288 with 1 Axes>"
      ]
     },
     "metadata": {
      "needs_background": "light"
     },
     "output_type": "display_data"
    }
   ],
   "source": [
    "plt.scatter(south_df['Lat'], south_df['Humidity'], facecolors='aqua', edgecolors='black')\n",
    "plt.xlabel('Latitude')\n",
    "plt.ylabel('Humidity')\n",
    "rvalue, line_eq = plot_regress_line(south_df['Lat'], south_df['Humidity'])\n",
    "plt.annotate(line_eq,(-50,20),fontsize=15,color=\"red\")\n",
    "print(f\"The r-squared is: {rvalue}\")\n",
    "plt.show()"
   ]
  },
  {
   "cell_type": "markdown",
   "metadata": {},
   "source": [
    "The linear regression shows little to no correlation between humidity and latitude in the southern hemisphere."
   ]
  },
  {
   "cell_type": "markdown",
   "metadata": {},
   "source": [
    "####  Northern Hemisphere - Cloudiness (%) vs. Latitude Linear Regression"
   ]
  },
  {
   "cell_type": "code",
   "execution_count": 289,
   "metadata": {},
   "outputs": [
    {
     "name": "stdout",
     "output_type": "stream",
     "text": [
      "The r-squared is: 0.17663399002523875\n"
     ]
    },
    {
     "data": {
      "image/png": "[encoded data removed]",
      "text/plain": [
       "<Figure size 432x288 with 1 Axes>"
      ]
     },
     "metadata": {
      "needs_background": "light"
     },
     "output_type": "display_data"
    }
   ],
   "source": [
    "plt.scatter(north_df['Lat'], north_df['Cloudiness'], facecolors='aqua', edgecolors='black')\n",
    "plt.xlabel('Latitude')\n",
    "plt.ylabel('Cloudiness')\n",
    "rvalue, line_eq = plot_regress_line(north_df['Lat'], north_df['Cloudiness'])\n",
    "plt.annotate(line_eq,(40,30),fontsize=15,color=\"red\")\n",
    "print(f\"The r-squared is: {rvalue}\")\n",
    "plt.show()"
   ]
  },
  {
   "cell_type": "markdown",
   "metadata": {},
   "source": [
    "The linear regression shows almost no correlation between cloudiness and latitude in the northern hemisphere."
   ]
  },
  {
   "cell_type": "markdown",
   "metadata": {},
   "source": [
    "####  Southern Hemisphere - Cloudiness (%) vs. Latitude Linear Regression"
   ]
  },
  {
   "cell_type": "code",
   "execution_count": 290,
   "metadata": {},
   "outputs": [
    {
     "name": "stdout",
     "output_type": "stream",
     "text": [
      "The r-squared is: 0.11566176072791176\n"
     ]
    },
    {
     "data": {
      "image/png": "[encoded data removed]",
      "text/plain": [
       "<Figure size 432x288 with 1 Axes>"
      ]
     },
     "metadata": {
      "needs_background": "light"
     },
     "output_type": "display_data"
    }
   ],
   "source": [
    "plt.scatter(south_df['Lat'], south_df['Cloudiness'], facecolors='aqua', edgecolors='black')\n",
    "plt.xlabel('Latitude')\n",
    "plt.ylabel('Cloudiness')\n",
    "rvalue, line_eq = plot_regress_line(south_df['Lat'], south_df['Cloudiness'])\n",
    "plt.annotate(line_eq,(-50,30),fontsize=15,color=\"red\")\n",
    "print(f\"The r-squared is: {rvalue}\")\n",
    "plt.show()"
   ]
  },
  {
   "cell_type": "markdown",
   "metadata": {},
   "source": [
    "The linear regression shows almost no correlation between cloudiness and latitude in the southern hemisphere."
   ]
  },
  {
   "cell_type": "markdown",
   "metadata": {},
   "source": [
    "####  Northern Hemisphere - Wind Speed (mph) vs. Latitude Linear Regression"
   ]
  },
  {
   "cell_type": "code",
   "execution_count": 306,
   "metadata": {},
   "outputs": [
    {
     "name": "stdout",
     "output_type": "stream",
     "text": [
      "The r-squared is: 0.17180264954564128\n"
     ]
    },
    {
     "data": {
      "image/png": "[encoded data removed]",
      "text/plain": [
       "<Figure size 432x288 with 1 Axes>"
      ]
     },
     "metadata": {
      "needs_background": "light"
     },
     "output_type": "display_data"
    }
   ],
   "source": [
    "plt.scatter(north_df['Lat'], north_df['Wind Speed'], facecolors='aqua', edgecolors='black')\n",
    "plt.xlabel('Latitude')\n",
    "plt.ylabel('Wind Speed')\n",
    "rvalue, line_eq = plot_regress_line(north_df['Lat'], north_df['Wind Speed'])\n",
    "plt.annotate(line_eq,(0,25),fontsize=15,color=\"red\")\n",
    "print(f\"The r-squared is: {rvalue}\")\n",
    "plt.show()"
   ]
  },
  {
   "cell_type": "markdown",
   "metadata": {},
   "source": [
    "The linear regression shows almost no correlation between wind speed and latitude in the northern hemisphere."
   ]
  },
  {
   "cell_type": "markdown",
   "metadata": {},
   "source": [
    "####  Southern Hemisphere - Wind Speed (mph) vs. Latitude Linear Regression"
   ]
  },
  {
   "cell_type": "code",
   "execution_count": 294,
   "metadata": {},
   "outputs": [
    {
     "name": "stdout",
     "output_type": "stream",
     "text": [
      "The r-squared is: -0.3942398132585068\n"
     ]
    },
    {
     "data": {
      "image/png": "[encoded data removed]",
      "text/plain": [
       "<Figure size 432x288 with 1 Axes>"
      ]
     },
     "metadata": {
      "needs_background": "light"
     },
     "output_type": "display_data"
    }
   ],
   "source": [
    "plt.scatter(south_df['Lat'], south_df['Wind Speed'], facecolors='aqua', edgecolors='black')\n",
    "plt.xlabel('Latitude')\n",
    "plt.ylabel('Wind Speed')\n",
    "rvalue, line_eq = plot_regress_line(south_df['Lat'], south_df['Wind Speed'])\n",
    "plt.annotate(line_eq,(-30,30),fontsize=15,color=\"red\")\n",
    "print(f\"The r-squared is: {rvalue}\")\n",
    "plt.show()"
   ]
  },
  {
   "cell_type": "markdown",
   "metadata": {},
   "source": [
    "The linear regression shows little to no correlation between wind speed and latitude in the southern hemisphere."
   ]
  },
  {
   "cell_type": "code",
   "execution_count": null,
   "metadata": {},
   "outputs": [],
   "source": []
  }
 ],
 "metadata": {
  "anaconda-cloud": {},
  "kernel_info": {
   "name": "python3"
  },
  "kernelspec": {
   "display_name": "Python 3",
   "language": "python",
   "name": "python3"
  },
  "language_info": {
   "codemirror_mode": {
    "name": "ipython",
    "version": 3
   },
   "file_extension": ".py",
   "mimetype": "text/x-python",
   "name": "python",
   "nbconvert_exporter": "python",
   "pygments_lexer": "ipython3",
   "version": "3.6.10"
  },
  "latex_envs": {
   "LaTeX_envs_menu_present": true,
   "autoclose": false,
   "autocomplete": true,
   "bibliofile": "biblio.bib",
   "cite_by": "apalike",
   "current_citInitial": 1,
   "eqLabelWithNumbers": true,
   "eqNumInitial": 1,
   "hotkeys": {
    "equation": "Ctrl-E",
    "itemize": "Ctrl-I"
   },
   "labels_anchors": false,
   "latex_user_defs": false,
   "report_style_numbering": false,
   "user_envs_cfg": false
  },
  "nteract": {
   "version": "0.12.3"
  }
 },
 "nbformat": 4,
 "nbformat_minor": 2
}
