{
 "cells": [
  {
   "cell_type": "markdown",
   "metadata": {},
   "source": [
    "# WeatherPy\n",
    "----\n",
    "\n",
    "#### Note\n",
    "* Instructions have been included for each segment. You do not have to follow them exactly, but they are included to help you think through the steps."
   ]
  },
  {
   "cell_type": "code",
   "execution_count": 7,
   "metadata": {
    "scrolled": true
   },
   "outputs": [],
   "source": [
    "# Dependencies and Setup\n",
    "import matplotlib.pyplot as plt\n",
    "import pandas as pd\n",
    "import numpy as np\n",
    "import requests\n",
    "import time\n",
    "from scipy.stats import linregress\n",
    "from datetime import datetime\n",
    "\n",
    "# Import API key\n",
    "from api_keys import weather_api_key\n",
    "\n",
    "# Incorporated citipy to determine city based on latitude and longitude\n",
    "from citipy import citipy\n",
    "\n",
    "# Output File (CSV)\n",
    "output_data_file = \"output_data/cities.csv\"\n",
    "\n",
    "# Range of latitudes and longitudes\n",
    "lat_range = (-90, 90)\n",
    "lng_range = (-180, 180)"
   ]
  },
  {
   "cell_type": "markdown",
   "metadata": {},
   "source": [
    "## Generate Cities List"
   ]
  },
  {
   "cell_type": "code",
   "execution_count": 2,
   "metadata": {},
   "outputs": [
    {
     "data": {
      "text/plain": [
       "625"
      ]
     },
     "execution_count": 2,
     "metadata": {},
     "output_type": "execute_result"
    }
   ],
   "source": [
    "# List for holding lat_lngs and cities\n",
    "lat_lngs = []\n",
    "cities = []\n",
    "\n",
    "# Create a set of random lat and lng combinations\n",
    "lats = np.random.uniform(low=-90.000, high=90.000, size=1500)\n",
    "lngs = np.random.uniform(low=-180.000, high=180.000, size=1500)\n",
    "lat_lngs = zip(lats, lngs)\n",
    "\n",
    "# Identify nearest city for each lat, lng combination\n",
    "for lat_lng in lat_lngs:\n",
    "    city = citipy.nearest_city(lat_lng[0], lat_lng[1]).city_name\n",
    "    \n",
    "    # If the city is unique, then add it to a our cities list\n",
    "    if city not in cities:\n",
    "        cities.append(city)\n",
    "\n",
    "# Print the city count to confirm sufficient count\n",
    "len(cities)"
   ]
  },
  {
   "cell_type": "markdown",
   "metadata": {},
   "source": [
    "### Perform API Calls\n",
    "* Perform a weather check on each city using a series of successive API calls.\n",
    "* Include a print log of each city as it'sbeing processed (with the city number and city name).\n"
   ]
  },
  {
   "cell_type": "code",
   "execution_count": 3,
   "metadata": {},
   "outputs": [
    {
     "name": "stdout",
     "output_type": "stream",
     "text": [
      "Beginning Data Retrieval\n",
      "-----------------------------\n",
      "Processing Record 1 of Set 1 | lillooet\n",
      "Processing Record 2 of Set 1 | barrow\n",
      "City not found. Skipping...\n",
      "Processing Record 3 of Set 1 | mount gambier\n",
      "Processing Record 4 of Set 1 | ikongo\n",
      "Processing Record 5 of Set 1 | sao filipe\n",
      "Processing Record 6 of Set 1 | ponta do sol\n",
      "City not found. Skipping...\n",
      "Processing Record 7 of Set 1 | pontianak\n",
      "Processing Record 8 of Set 1 | san quintin\n",
      "Processing Record 9 of Set 1 | hermanus\n",
      "Processing Record 10 of Set 1 | port alfred\n",
      "Processing Record 11 of Set 1 | puerto ayora\n",
      "Processing Record 12 of Set 1 | lebu\n",
      "Processing Record 13 of Set 1 | marsh harbour\n",
      "Processing Record 14 of Set 1 | jamestown\n",
      "Processing Record 15 of Set 1 | butaritari\n",
      "Processing Record 16 of Set 1 | inirida\n",
      "Processing Record 17 of Set 1 | thinadhoo\n",
      "City not found. Skipping...\n",
      "Processing Record 18 of Set 1 | hithadhoo\n",
      "Processing Record 19 of Set 1 | severo-kurilsk\n",
      "Processing Record 20 of Set 1 | albany\n",
      "Processing Record 21 of Set 1 | pangnirtung\n",
      "Processing Record 22 of Set 1 | bengkulu\n",
      "Processing Record 23 of Set 1 | georgetown\n",
      "Processing Record 24 of Set 1 | lodja\n",
      "City not found. Skipping...\n",
      "Processing Record 25 of Set 1 | kodiak\n",
      "Processing Record 26 of Set 1 | mataura\n",
      "Processing Record 27 of Set 1 | assiniboia\n",
      "Processing Record 28 of Set 1 | pesochnoye\n",
      "Processing Record 29 of Set 1 | port-gentil\n",
      "Processing Record 30 of Set 1 | bilma\n",
      "Processing Record 31 of Set 1 | taoudenni\n",
      "Processing Record 32 of Set 1 | maningrida\n",
      "Processing Record 33 of Set 1 | nanortalik\n",
      "Processing Record 34 of Set 1 | naze\n",
      "Processing Record 35 of Set 1 | new norfolk\n",
      "Processing Record 36 of Set 1 | gambela\n",
      "Processing Record 37 of Set 1 | touros\n",
      "City not found. Skipping...\n",
      "Processing Record 38 of Set 1 | hobart\n",
      "Processing Record 39 of Set 1 | yellowknife\n",
      "Processing Record 40 of Set 1 | sitka\n",
      "Processing Record 41 of Set 1 | arnissa\n",
      "Processing Record 42 of Set 1 | anandnagar\n",
      "Processing Record 43 of Set 1 | ushuaia\n",
      "Processing Record 44 of Set 1 | busselton\n",
      "Processing Record 45 of Set 1 | dikson\n",
      "Processing Record 46 of Set 1 | nikolskoye\n",
      "Processing Record 47 of Set 1 | cayenne\n",
      "Processing Record 48 of Set 1 | iqaluit\n",
      "Processing Record 49 of Set 1 | rikitea\n",
      "Processing Record 0 of Set 2 | coihaique\n",
      "Processing Record 1 of Set 2 | bambous virieux\n",
      "City not found. Skipping...\n",
      "Processing Record 2 of Set 2 | lata\n",
      "Processing Record 3 of Set 2 | beoumi\n",
      "Processing Record 4 of Set 2 | kapaa\n",
      "Processing Record 5 of Set 2 | punta arenas\n",
      "Processing Record 6 of Set 2 | east london\n",
      "Processing Record 7 of Set 2 | mar del plata\n",
      "Processing Record 8 of Set 2 | leh\n",
      "Processing Record 9 of Set 2 | sibolga\n",
      "Processing Record 10 of Set 2 | qaanaaq\n",
      "Processing Record 11 of Set 2 | kologriv\n",
      "Processing Record 12 of Set 2 | saint-philippe\n",
      "Processing Record 13 of Set 2 | torbay\n",
      "Processing Record 14 of Set 2 | boa vista\n",
      "Processing Record 15 of Set 2 | guerrero negro\n",
      "Processing Record 16 of Set 2 | nome\n",
      "Processing Record 17 of Set 2 | puerto madryn\n",
      "City not found. Skipping...\n",
      "Processing Record 18 of Set 2 | saldanha\n",
      "Processing Record 19 of Set 2 | palana\n",
      "Processing Record 20 of Set 2 | soria\n",
      "Processing Record 21 of Set 2 | cherskiy\n",
      "Processing Record 22 of Set 2 | trincomalee\n",
      "Processing Record 23 of Set 2 | geraldton\n",
      "Processing Record 24 of Set 2 | minot\n",
      "Processing Record 25 of Set 2 | saint-augustin\n",
      "City not found. Skipping...\n",
      "City not found. Skipping...\n",
      "Processing Record 26 of Set 2 | cabo san lucas\n",
      "Processing Record 27 of Set 2 | atuona\n",
      "Processing Record 28 of Set 2 | thompson\n",
      "City not found. Skipping...\n",
      "Processing Record 29 of Set 2 | ribeira grande\n",
      "Processing Record 30 of Set 2 | kijang\n",
      "Processing Record 31 of Set 2 | broome\n",
      "Processing Record 32 of Set 2 | progreso\n",
      "Processing Record 33 of Set 2 | bredasdorp\n",
      "Processing Record 34 of Set 2 | lompoc\n",
      "Processing Record 35 of Set 2 | sangre grande\n",
      "Processing Record 36 of Set 2 | petropavlovsk-kamchatskiy\n",
      "Processing Record 37 of Set 2 | urucara\n",
      "Processing Record 38 of Set 2 | saint-joseph\n",
      "Processing Record 39 of Set 2 | hilo\n",
      "Processing Record 40 of Set 2 | abonnema\n",
      "Processing Record 41 of Set 2 | puerto escondido\n",
      "Processing Record 42 of Set 2 | ouadda\n",
      "Processing Record 43 of Set 2 | podor\n",
      "Processing Record 44 of Set 2 | airai\n",
      "Processing Record 45 of Set 2 | nouadhibou\n",
      "Processing Record 46 of Set 2 | yasnyy\n",
      "Processing Record 47 of Set 2 | makakilo city\n",
      "Processing Record 48 of Set 2 | vao\n",
      "Processing Record 49 of Set 2 | fortuna\n",
      "Processing Record 0 of Set 3 | khatanga\n",
      "City not found. Skipping...\n",
      "Processing Record 1 of Set 3 | kutum\n",
      "Processing Record 2 of Set 3 | cidreira\n",
      "Processing Record 3 of Set 3 | colombo\n",
      "Processing Record 4 of Set 3 | bandarbeyla\n",
      "Processing Record 5 of Set 3 | jumla\n",
      "Processing Record 6 of Set 3 | pingliang\n",
      "Processing Record 7 of Set 3 | ahipara\n",
      "Processing Record 8 of Set 3 | kaitangata\n",
      "Processing Record 9 of Set 3 | prince rupert\n",
      "Processing Record 10 of Set 3 | luangwa\n",
      "Processing Record 11 of Set 3 | tuktoyaktuk\n",
      "Processing Record 12 of Set 3 | bac lieu\n",
      "Processing Record 13 of Set 3 | tateyama\n",
      "Processing Record 14 of Set 3 | gallup\n",
      "Processing Record 15 of Set 3 | cape town\n",
      "Processing Record 16 of Set 3 | mahebourg\n",
      "Processing Record 17 of Set 3 | faya\n",
      "Processing Record 18 of Set 3 | chernoyerkovskaya\n",
      "Processing Record 19 of Set 3 | beyneu\n",
      "Processing Record 20 of Set 3 | chokurdakh\n",
      "Processing Record 21 of Set 3 | greeley\n",
      "Processing Record 22 of Set 3 | clyde river\n",
      "Processing Record 23 of Set 3 | tautira\n",
      "City not found. Skipping...\n",
      "Processing Record 24 of Set 3 | beloretsk\n",
      "Processing Record 25 of Set 3 | hefei\n",
      "Processing Record 26 of Set 3 | kudahuvadhoo\n",
      "Processing Record 27 of Set 3 | longyearbyen\n",
      "Processing Record 28 of Set 3 | bluff\n",
      "Processing Record 29 of Set 3 | nemuro\n",
      "Processing Record 30 of Set 3 | vaini\n",
      "Processing Record 31 of Set 3 | gornopravdinsk\n",
      "Processing Record 32 of Set 3 | george\n",
      "Processing Record 33 of Set 3 | avarua\n",
      "Processing Record 34 of Set 3 | hasaki\n",
      "Processing Record 35 of Set 3 | adrar\n",
      "Processing Record 36 of Set 3 | port elizabeth\n",
      "Processing Record 37 of Set 3 | balikpapan\n",
      "Processing Record 38 of Set 3 | maputo\n",
      "City not found. Skipping...\n",
      "Processing Record 39 of Set 3 | narsaq\n",
      "Processing Record 40 of Set 3 | whitefish\n",
      "Processing Record 41 of Set 3 | dabat\n",
      "Processing Record 42 of Set 3 | shimoda\n",
      "City not found. Skipping...\n",
      "Processing Record 43 of Set 3 | sobolevo\n",
      "Processing Record 44 of Set 3 | saskylakh\n",
      "Processing Record 45 of Set 3 | tornio\n",
      "Processing Record 46 of Set 3 | isangel\n",
      "Processing Record 47 of Set 3 | corowa\n",
      "Processing Record 48 of Set 3 | kaduqli\n",
      "Processing Record 49 of Set 3 | jasper\n",
      "Processing Record 0 of Set 4 | pevek\n",
      "Processing Record 1 of Set 4 | byron bay\n",
      "City not found. Skipping...\n",
      "Processing Record 2 of Set 4 | wanaka\n",
      "Processing Record 3 of Set 4 | anjangaon\n",
      "Processing Record 4 of Set 4 | muslyumovo\n",
      "Processing Record 5 of Set 4 | mareeba\n",
      "Processing Record 6 of Set 4 | saint george\n",
      "Processing Record 7 of Set 4 | bang mun nak\n",
      "Processing Record 8 of Set 4 | hami\n",
      "Processing Record 9 of Set 4 | mahon\n",
      "Processing Record 10 of Set 4 | gat\n",
      "Processing Record 11 of Set 4 | los llanos de aridane\n",
      "Processing Record 12 of Set 4 | sur\n",
      "Processing Record 13 of Set 4 | leshukonskoye\n",
      "Processing Record 14 of Set 4 | liberal\n",
      "Processing Record 15 of Set 4 | la ronge\n",
      "Processing Record 16 of Set 4 | port lincoln\n",
      "Processing Record 17 of Set 4 | peniche\n",
      "Processing Record 18 of Set 4 | nyaunglebin\n",
      "Processing Record 19 of Set 4 | norman wells\n",
      "Processing Record 20 of Set 4 | zhirnov\n",
      "Processing Record 21 of Set 4 | horasan\n",
      "Processing Record 22 of Set 4 | saint pete beach\n",
      "Processing Record 23 of Set 4 | castro\n",
      "Processing Record 24 of Set 4 | fort nelson\n",
      "Processing Record 25 of Set 4 | opuwo\n",
      "Processing Record 26 of Set 4 | makaleng\n",
      "Processing Record 27 of Set 4 | zhuhai\n",
      "Processing Record 28 of Set 4 | davydivka\n",
      "Processing Record 29 of Set 4 | semnan\n",
      "Processing Record 30 of Set 4 | tomatlan\n",
      "Processing Record 31 of Set 4 | chuy\n",
      "Processing Record 32 of Set 4 | linhai\n",
      "Processing Record 33 of Set 4 | laishevo\n",
      "City not found. Skipping...\n",
      "Processing Record 34 of Set 4 | monrovia\n",
      "Processing Record 35 of Set 4 | fukue\n",
      "Processing Record 36 of Set 4 | ancud\n",
      "Processing Record 37 of Set 4 | sao gabriel da cachoeira\n"
     ]
    },
    {
     "name": "stdout",
     "output_type": "stream",
     "text": [
      "Processing Record 38 of Set 4 | esil\n",
      "Processing Record 39 of Set 4 | watrous\n",
      "Processing Record 40 of Set 4 | khambhat\n",
      "Processing Record 41 of Set 4 | souillac\n",
      "Processing Record 42 of Set 4 | karlskrona\n",
      "Processing Record 43 of Set 4 | beisfjord\n",
      "Processing Record 44 of Set 4 | dungarpur\n",
      "Processing Record 45 of Set 4 | saint-francois\n",
      "Processing Record 46 of Set 4 | altus\n",
      "City not found. Skipping...\n",
      "Processing Record 47 of Set 4 | asau\n",
      "Processing Record 48 of Set 4 | puerto baquerizo moreno\n",
      "Processing Record 49 of Set 4 | ayan\n",
      "Processing Record 0 of Set 5 | itaituba\n",
      "Processing Record 1 of Set 5 | ilulissat\n",
      "Processing Record 2 of Set 5 | paamiut\n",
      "Processing Record 3 of Set 5 | vostok\n",
      "Processing Record 4 of Set 5 | vila velha\n",
      "Processing Record 5 of Set 5 | teguldet\n",
      "Processing Record 6 of Set 5 | maragheh\n",
      "Processing Record 7 of Set 5 | tezu\n",
      "Processing Record 8 of Set 5 | vilhena\n",
      "Processing Record 9 of Set 5 | la paz\n",
      "Processing Record 10 of Set 5 | menongue\n",
      "Processing Record 11 of Set 5 | havelock\n",
      "Processing Record 12 of Set 5 | jaisalmer\n",
      "Processing Record 13 of Set 5 | san ignacio\n",
      "Processing Record 14 of Set 5 | champerico\n",
      "Processing Record 15 of Set 5 | alofi\n",
      "Processing Record 16 of Set 5 | binzhou\n",
      "Processing Record 17 of Set 5 | redmond\n",
      "Processing Record 18 of Set 5 | yining\n",
      "Processing Record 19 of Set 5 | faanui\n",
      "Processing Record 20 of Set 5 | tura\n",
      "Processing Record 21 of Set 5 | rio grande\n",
      "Processing Record 22 of Set 5 | inverell\n",
      "City not found. Skipping...\n",
      "Processing Record 23 of Set 5 | qaqortoq\n",
      "Processing Record 24 of Set 5 | beloha\n",
      "Processing Record 25 of Set 5 | bardiyah\n",
      "Processing Record 26 of Set 5 | denpasar\n",
      "Processing Record 27 of Set 5 | honiara\n",
      "Processing Record 28 of Set 5 | santa fe\n",
      "Processing Record 29 of Set 5 | lakhipur\n",
      "Processing Record 30 of Set 5 | saint-pierre\n",
      "Processing Record 31 of Set 5 | calamar\n",
      "Processing Record 32 of Set 5 | kuytun\n",
      "Processing Record 33 of Set 5 | kupang\n",
      "Processing Record 34 of Set 5 | tabuk\n",
      "Processing Record 35 of Set 5 | coro\n",
      "Processing Record 36 of Set 5 | tasiilaq\n",
      "Processing Record 37 of Set 5 | chapais\n",
      "Processing Record 38 of Set 5 | narrabri\n",
      "Processing Record 39 of Set 5 | la rioja\n",
      "Processing Record 40 of Set 5 | jodhpur\n",
      "Processing Record 41 of Set 5 | dunedin\n",
      "Processing Record 42 of Set 5 | inhambane\n",
      "Processing Record 43 of Set 5 | karratha\n",
      "Processing Record 44 of Set 5 | sedhiou\n",
      "City not found. Skipping...\n",
      "Processing Record 45 of Set 5 | kiunga\n",
      "Processing Record 46 of Set 5 | college\n",
      "Processing Record 47 of Set 5 | sereflikochisar\n",
      "Processing Record 48 of Set 5 | constitucion\n",
      "Processing Record 49 of Set 5 | san patricio\n",
      "Processing Record 0 of Set 6 | kagoro\n",
      "Processing Record 1 of Set 6 | pisco\n",
      "City not found. Skipping...\n",
      "Processing Record 2 of Set 6 | youhao\n",
      "City not found. Skipping...\n",
      "Processing Record 3 of Set 6 | aswan\n",
      "Processing Record 4 of Set 6 | shirokiy\n",
      "Processing Record 5 of Set 6 | safaga\n",
      "Processing Record 6 of Set 6 | murighiol\n",
      "City not found. Skipping...\n",
      "Processing Record 7 of Set 6 | arlit\n",
      "Processing Record 8 of Set 6 | flinders\n",
      "Processing Record 9 of Set 6 | arman\n",
      "Processing Record 10 of Set 6 | grand gaube\n",
      "Processing Record 11 of Set 6 | zhezkazgan\n",
      "Processing Record 12 of Set 6 | bachaquero\n",
      "Processing Record 13 of Set 6 | huilong\n",
      "Processing Record 14 of Set 6 | la sarre\n",
      "Processing Record 15 of Set 6 | berlevag\n",
      "Processing Record 16 of Set 6 | klaksvik\n",
      "Processing Record 17 of Set 6 | marrakesh\n",
      "Processing Record 18 of Set 6 | arraial do cabo\n",
      "Processing Record 19 of Set 6 | katastarion\n",
      "City not found. Skipping...\n",
      "Processing Record 20 of Set 6 | mizdah\n",
      "Processing Record 21 of Set 6 | atar\n",
      "Processing Record 22 of Set 6 | kahului\n",
      "Processing Record 23 of Set 6 | conde\n",
      "Processing Record 24 of Set 6 | alyangula\n",
      "Processing Record 25 of Set 6 | piacabucu\n",
      "Processing Record 26 of Set 6 | lima\n",
      "Processing Record 27 of Set 6 | luderitz\n",
      "Processing Record 28 of Set 6 | husavik\n",
      "Processing Record 29 of Set 6 | banyo\n",
      "Processing Record 30 of Set 6 | ahuimanu\n",
      "Processing Record 31 of Set 6 | talaya\n",
      "Processing Record 32 of Set 6 | kununurra\n",
      "Processing Record 33 of Set 6 | scarborough\n",
      "City not found. Skipping...\n",
      "Processing Record 34 of Set 6 | tonj\n",
      "Processing Record 35 of Set 6 | fulton\n",
      "Processing Record 36 of Set 6 | esperance\n",
      "Processing Record 37 of Set 6 | zelenogradsk\n",
      "Processing Record 38 of Set 6 | ouesso\n",
      "Processing Record 39 of Set 6 | maceio\n",
      "Processing Record 40 of Set 6 | coquimbo\n",
      "Processing Record 41 of Set 6 | sola\n",
      "Processing Record 42 of Set 6 | tynda\n",
      "Processing Record 43 of Set 6 | kargil\n",
      "Processing Record 44 of Set 6 | caravelas\n",
      "Processing Record 45 of Set 6 | majene\n",
      "Processing Record 46 of Set 6 | katsuura\n",
      "Processing Record 47 of Set 6 | itoman\n",
      "Processing Record 48 of Set 6 | auki\n",
      "Processing Record 49 of Set 6 | vila franca do campo\n",
      "Processing Record 0 of Set 7 | novyy urgal\n",
      "Processing Record 1 of Set 7 | provideniya\n",
      "Processing Record 2 of Set 7 | padang\n",
      "Processing Record 3 of Set 7 | paramirim\n",
      "Processing Record 4 of Set 7 | abu samrah\n",
      "Processing Record 5 of Set 7 | mitsamiouli\n",
      "Processing Record 6 of Set 7 | mackenzie\n",
      "Processing Record 7 of Set 7 | lorengau\n",
      "Processing Record 8 of Set 7 | cabedelo\n",
      "Processing Record 9 of Set 7 | matadi\n",
      "Processing Record 10 of Set 7 | codrington\n",
      "Processing Record 11 of Set 7 | tuatapere\n",
      "Processing Record 12 of Set 7 | kudat\n",
      "Processing Record 13 of Set 7 | haripur\n",
      "Processing Record 14 of Set 7 | key west\n",
      "City not found. Skipping...\n",
      "Processing Record 15 of Set 7 | trogir\n",
      "Processing Record 16 of Set 7 | estelle\n",
      "City not found. Skipping...\n",
      "Processing Record 17 of Set 7 | taltal\n",
      "Processing Record 18 of Set 7 | aklavik\n",
      "Processing Record 19 of Set 7 | carnarvon\n",
      "Processing Record 20 of Set 7 | yuci\n",
      "Processing Record 21 of Set 7 | kieta\n",
      "Processing Record 22 of Set 7 | saint anthony\n",
      "Processing Record 23 of Set 7 | penzance\n",
      "Processing Record 24 of Set 7 | muli\n",
      "Processing Record 25 of Set 7 | mayo\n",
      "Processing Record 26 of Set 7 | kamaishi\n",
      "Processing Record 27 of Set 7 | richards bay\n",
      "Processing Record 28 of Set 7 | machico\n",
      "City not found. Skipping...\n",
      "Processing Record 29 of Set 7 | vanimo\n",
      "Processing Record 30 of Set 7 | te anau\n",
      "Processing Record 31 of Set 7 | nyurba\n",
      "Processing Record 32 of Set 7 | imbituba\n",
      "Processing Record 33 of Set 7 | gobabis\n",
      "Processing Record 34 of Set 7 | jiamusi\n",
      "Processing Record 35 of Set 7 | peleduy\n",
      "City not found. Skipping...\n",
      "Processing Record 36 of Set 7 | norfolk\n",
      "Processing Record 37 of Set 7 | hot springs\n",
      "Processing Record 38 of Set 7 | cardenas\n",
      "Processing Record 39 of Set 7 | victor harbor\n",
      "Processing Record 40 of Set 7 | bethel\n",
      "Processing Record 41 of Set 7 | ust-maya\n",
      "Processing Record 42 of Set 7 | neyvo-shaytanskiy\n",
      "Processing Record 43 of Set 7 | yulara\n",
      "Processing Record 44 of Set 7 | lappeenranta\n",
      "Processing Record 45 of Set 7 | port hawkesbury\n",
      "Processing Record 46 of Set 7 | poum\n",
      "Processing Record 47 of Set 7 | yuanli\n",
      "Processing Record 48 of Set 7 | koutiala\n",
      "Processing Record 49 of Set 7 | mehamn\n",
      "Processing Record 0 of Set 8 | upernavik\n",
      "Processing Record 1 of Set 8 | saint-louis\n",
      "Processing Record 2 of Set 8 | manjacaze\n",
      "Processing Record 3 of Set 8 | yamada\n",
      "Processing Record 4 of Set 8 | benjamin hill\n",
      "Processing Record 5 of Set 8 | aguimes\n",
      "Processing Record 6 of Set 8 | alpena\n",
      "Processing Record 7 of Set 8 | labuan\n",
      "Processing Record 8 of Set 8 | pemangkat\n",
      "Processing Record 9 of Set 8 | thai binh\n",
      "Processing Record 10 of Set 8 | haines junction\n",
      "Processing Record 11 of Set 8 | tres palos\n",
      "Processing Record 12 of Set 8 | mackay\n",
      "Processing Record 13 of Set 8 | ontario\n",
      "Processing Record 14 of Set 8 | yerbogachen\n",
      "Processing Record 15 of Set 8 | bathsheba\n",
      "Processing Record 16 of Set 8 | tytuvenai\n",
      "Processing Record 17 of Set 8 | coria\n",
      "Processing Record 18 of Set 8 | olafsvik\n",
      "Processing Record 19 of Set 8 | togur\n",
      "Processing Record 20 of Set 8 | along\n",
      "Processing Record 21 of Set 8 | goderich\n",
      "City not found. Skipping...\n",
      "Processing Record 22 of Set 8 | soyo\n",
      "Processing Record 23 of Set 8 | rognan\n",
      "Processing Record 24 of Set 8 | axim\n",
      "Processing Record 25 of Set 8 | namatanai\n",
      "Processing Record 26 of Set 8 | gaziantep\n",
      "City not found. Skipping...\n",
      "Processing Record 27 of Set 8 | palm coast\n",
      "Processing Record 28 of Set 8 | salalah\n",
      "Processing Record 29 of Set 8 | tiksi\n"
     ]
    },
    {
     "name": "stdout",
     "output_type": "stream",
     "text": [
      "Processing Record 30 of Set 8 | port blair\n",
      "Processing Record 31 of Set 8 | illapel\n",
      "Processing Record 32 of Set 8 | elko\n",
      "Processing Record 33 of Set 8 | sindor\n",
      "Processing Record 34 of Set 8 | cockburn town\n",
      "Processing Record 35 of Set 8 | frumusani\n",
      "Processing Record 36 of Set 8 | batagay-alyta\n",
      "Processing Record 37 of Set 8 | lahij\n",
      "Processing Record 38 of Set 8 | pangai\n",
      "Processing Record 39 of Set 8 | svetlyy\n",
      "Processing Record 40 of Set 8 | hofn\n",
      "Processing Record 41 of Set 8 | libreville\n",
      "Processing Record 42 of Set 8 | oussouye\n",
      "Processing Record 43 of Set 8 | teya\n",
      "Processing Record 44 of Set 8 | road town\n",
      "Processing Record 45 of Set 8 | victoria\n",
      "Processing Record 46 of Set 8 | morondava\n",
      "Processing Record 47 of Set 8 | honningsvag\n",
      "Processing Record 48 of Set 8 | bemidji\n",
      "Processing Record 49 of Set 8 | lavrentiya\n",
      "Processing Record 0 of Set 9 | beidao\n",
      "Processing Record 1 of Set 9 | san ramon de la nueva oran\n",
      "Processing Record 2 of Set 9 | ketchikan\n",
      "Processing Record 3 of Set 9 | shitanjing\n",
      "Processing Record 4 of Set 9 | kushmurun\n",
      "City not found. Skipping...\n",
      "Processing Record 5 of Set 9 | belyy yar\n",
      "Processing Record 6 of Set 9 | kavieng\n",
      "Processing Record 7 of Set 9 | hovd\n",
      "Processing Record 8 of Set 9 | launceston\n",
      "Processing Record 9 of Set 9 | sfantu gheorghe\n",
      "City not found. Skipping...\n",
      "Processing Record 10 of Set 9 | oudtshoorn\n",
      "Processing Record 11 of Set 9 | urumqi\n",
      "Processing Record 12 of Set 9 | basco\n",
      "Processing Record 13 of Set 9 | tagusao\n",
      "Processing Record 14 of Set 9 | medvezhyegorsk\n",
      "Processing Record 15 of Set 9 | la palma\n",
      "Processing Record 16 of Set 9 | tilichiki\n",
      "Processing Record 17 of Set 9 | krasnoborsk\n",
      "City not found. Skipping...\n",
      "Processing Record 18 of Set 9 | cruzeiro do sul\n",
      "City not found. Skipping...\n",
      "Processing Record 19 of Set 9 | roald\n",
      "Processing Record 20 of Set 9 | biltine\n",
      "Processing Record 21 of Set 9 | thunder bay\n",
      "Processing Record 22 of Set 9 | felipe carrillo puerto\n",
      "Processing Record 23 of Set 9 | kamenka\n",
      "Processing Record 24 of Set 9 | talnakh\n",
      "Processing Record 25 of Set 9 | maldonado\n",
      "Processing Record 26 of Set 9 | namibe\n",
      "City not found. Skipping...\n",
      "Processing Record 27 of Set 9 | carmel\n",
      "Processing Record 28 of Set 9 | tonstad\n",
      "Processing Record 29 of Set 9 | camana\n",
      "Processing Record 30 of Set 9 | tomarovka\n",
      "Processing Record 31 of Set 9 | mon\n",
      "Processing Record 32 of Set 9 | at-bashi\n",
      "Processing Record 33 of Set 9 | salinopolis\n",
      "Processing Record 34 of Set 9 | batagay\n",
      "Processing Record 35 of Set 9 | chamba\n",
      "Processing Record 36 of Set 9 | matara\n",
      "Processing Record 37 of Set 9 | zurrieq\n",
      "Processing Record 38 of Set 9 | capinota\n",
      "Processing Record 39 of Set 9 | acapulco\n",
      "Processing Record 40 of Set 9 | athabasca\n",
      "Processing Record 41 of Set 9 | samarai\n",
      "Processing Record 42 of Set 9 | ginir\n",
      "City not found. Skipping...\n",
      "Processing Record 43 of Set 9 | san vicente\n",
      "Processing Record 44 of Set 9 | port augusta\n",
      "Processing Record 45 of Set 9 | accra\n",
      "Processing Record 46 of Set 9 | hobyo\n",
      "Processing Record 47 of Set 9 | gorontalo\n",
      "Processing Record 48 of Set 9 | biak\n",
      "Processing Record 49 of Set 9 | shelburne\n",
      "Processing Record 0 of Set 10 | sydney\n",
      "Processing Record 1 of Set 10 | chunskiy\n",
      "City not found. Skipping...\n",
      "Processing Record 2 of Set 10 | wattegama\n",
      "Processing Record 3 of Set 10 | awbari\n",
      "Processing Record 4 of Set 10 | songjianghe\n",
      "Processing Record 5 of Set 10 | kruisfontein\n",
      "Processing Record 6 of Set 10 | storsteinnes\n",
      "Processing Record 7 of Set 10 | wukari\n",
      "Processing Record 8 of Set 10 | olinda\n",
      "Processing Record 9 of Set 10 | altamira\n",
      "Processing Record 10 of Set 10 | girvan\n",
      "Processing Record 11 of Set 10 | two rivers\n",
      "Processing Record 12 of Set 10 | kothen\n",
      "Processing Record 13 of Set 10 | ostrovnoy\n",
      "Processing Record 14 of Set 10 | antalaha\n",
      "City not found. Skipping...\n",
      "Processing Record 15 of Set 10 | constanza\n",
      "Processing Record 16 of Set 10 | tuy hoa\n",
      "Processing Record 17 of Set 10 | sanming\n",
      "Processing Record 18 of Set 10 | minsk\n",
      "Processing Record 19 of Set 10 | vaitape\n",
      "Processing Record 20 of Set 10 | mansa\n",
      "Processing Record 21 of Set 10 | bagaha\n",
      "Processing Record 22 of Set 10 | ardakan\n",
      "Processing Record 23 of Set 10 | holguin\n",
      "Processing Record 24 of Set 10 | manokwari\n",
      "City not found. Skipping...\n",
      "Processing Record 25 of Set 10 | lusambo\n",
      "Processing Record 26 of Set 10 | puerto leguizamo\n",
      "Processing Record 27 of Set 10 | tingo maria\n",
      "Processing Record 28 of Set 10 | vestmannaeyjar\n",
      "Processing Record 29 of Set 10 | matagami\n",
      "Processing Record 30 of Set 10 | komsomolskiy\n",
      "Processing Record 31 of Set 10 | pitimbu\n",
      "Processing Record 32 of Set 10 | kwinana\n",
      "Processing Record 33 of Set 10 | kikwit\n",
      "Processing Record 34 of Set 10 | leningradskiy\n",
      "Processing Record 35 of Set 10 | toccoa\n",
      "Processing Record 36 of Set 10 | omsukchan\n",
      "City not found. Skipping...\n",
      "Processing Record 37 of Set 10 | miraflores\n",
      "Processing Record 38 of Set 10 | balila\n",
      "Processing Record 39 of Set 10 | kemi\n",
      "Processing Record 40 of Set 10 | san pedro\n",
      "Processing Record 41 of Set 10 | salcininkai\n",
      "Processing Record 42 of Set 10 | pokaran\n",
      "Processing Record 43 of Set 10 | mmabatho\n",
      "Processing Record 44 of Set 10 | karak\n",
      "Processing Record 45 of Set 10 | port-cartier\n",
      "Processing Record 46 of Set 10 | kavaratti\n",
      "Processing Record 47 of Set 10 | oriximina\n",
      "Processing Record 48 of Set 10 | bloemfontein\n",
      "Processing Record 49 of Set 10 | fairbanks\n",
      "Processing Record 0 of Set 11 | salinas\n",
      "Processing Record 1 of Set 11 | rafaela\n",
      "Processing Record 2 of Set 11 | garmsar\n",
      "Processing Record 3 of Set 11 | bone\n",
      "Processing Record 4 of Set 11 | klaeng\n",
      "Processing Record 5 of Set 11 | tromso\n",
      "Processing Record 6 of Set 11 | kiama\n",
      "Processing Record 7 of Set 11 | ndjole\n",
      "City not found. Skipping...\n",
      "Processing Record 8 of Set 11 | sao francisco\n",
      "Processing Record 9 of Set 11 | kandri\n",
      "Processing Record 10 of Set 11 | cabra\n",
      "Processing Record 11 of Set 11 | kochubey\n",
      "Processing Record 12 of Set 11 | ixtapa\n",
      "Processing Record 13 of Set 11 | doka\n",
      "Processing Record 14 of Set 11 | araouane\n",
      "City not found. Skipping...\n",
      "Processing Record 15 of Set 11 | foumban\n",
      "Processing Record 16 of Set 11 | hervey bay\n",
      "Processing Record 17 of Set 11 | alta floresta\n",
      "Processing Record 18 of Set 11 | the pas\n",
      "Processing Record 19 of Set 11 | lookan\n",
      "Processing Record 20 of Set 11 | xambioa\n",
      "Processing Record 21 of Set 11 | miri\n",
      "Processing Record 22 of Set 11 | belaya gora\n",
      "Processing Record 23 of Set 11 | superior\n",
      "Processing Record 24 of Set 11 | kalga\n",
      "Processing Record 25 of Set 11 | cotonou\n",
      "Processing Record 26 of Set 11 | shingu\n",
      "Processing Record 27 of Set 11 | desaguadero\n",
      "City not found. Skipping...\n",
      "Processing Record 28 of Set 11 | kambove\n",
      "Processing Record 29 of Set 11 | jalu\n",
      "Processing Record 30 of Set 11 | hatillo\n",
      "Processing Record 31 of Set 11 | raudeberg\n",
      "Processing Record 32 of Set 11 | vardo\n",
      "Processing Record 33 of Set 11 | saint-felicien\n",
      "Processing Record 34 of Set 11 | constantine\n",
      "City not found. Skipping...\n",
      "Processing Record 35 of Set 11 | filimonovo\n",
      "Processing Record 36 of Set 11 | rocha\n",
      "Processing Record 37 of Set 11 | laguna\n",
      "City not found. Skipping...\n",
      "City not found. Skipping...\n",
      "Processing Record 38 of Set 11 | kholodnyy\n",
      "Processing Record 39 of Set 11 | grand island\n",
      "Processing Record 40 of Set 11 | parsons\n",
      "Processing Record 41 of Set 11 | nantucket\n",
      "Processing Record 42 of Set 11 | almeirim\n",
      "City not found. Skipping...\n",
      "Processing Record 43 of Set 11 | hambantota\n",
      "Processing Record 44 of Set 11 | miramar\n",
      "Processing Record 45 of Set 11 | quatre cocos\n",
      "Processing Record 46 of Set 11 | hella\n",
      "Processing Record 47 of Set 11 | puerto del rosario\n",
      "Processing Record 48 of Set 11 | sinnamary\n",
      "Processing Record 49 of Set 11 | kaeo\n",
      "Processing Record 0 of Set 12 | ludvika\n",
      "Processing Record 1 of Set 12 | grindavik\n",
      "Processing Record 2 of Set 12 | turukhansk\n",
      "Processing Record 3 of Set 12 | dhidhdhoo\n",
      "City not found. Skipping...\n",
      "Processing Record 4 of Set 12 | mungwi\n",
      "Processing Record 5 of Set 12 | deputatskiy\n",
      "Processing Record 6 of Set 12 | dawei\n",
      "Processing Record 7 of Set 12 | palmerston\n",
      "Processing Record 8 of Set 12 | kaohsiung\n",
      "Processing Record 9 of Set 12 | wageningen\n",
      "Processing Record 10 of Set 12 | angoram\n",
      "Processing Record 11 of Set 12 | srednekolymsk\n",
      "Processing Record 12 of Set 12 | san francisco del mar\n",
      "Processing Record 13 of Set 12 | kilcullen\n",
      "Processing Record 14 of Set 12 | santa cruz de la palma\n"
     ]
    },
    {
     "name": "stdout",
     "output_type": "stream",
     "text": [
      "Processing Record 15 of Set 12 | grootfontein\n",
      "Processing Record 16 of Set 12 | san cristobal\n",
      "Processing Record 17 of Set 12 | makhinjauri\n",
      "Processing Record 18 of Set 12 | carballo\n",
      "Processing Record 19 of Set 12 | grand-lahou\n",
      "Processing Record 20 of Set 12 | la baule-escoublac\n",
      "Processing Record 21 of Set 12 | reconquista\n",
      "Processing Record 22 of Set 12 | whitehorse\n",
      "Processing Record 23 of Set 12 | itaueira\n",
      "Processing Record 24 of Set 12 | noshiro\n",
      "City not found. Skipping...\n",
      "Processing Record 25 of Set 12 | ilhabela\n",
      "Processing Record 26 of Set 12 | aquiraz\n",
      "-----------------------------\n",
      "Data Retrieval Complete\n",
      "-----------------------------\n"
     ]
    }
   ],
   "source": [
    "url = \"http://api.openweathermap.org/data/2.5/weather?\"\n",
    "count = 0\n",
    "set_count = 1\n",
    "city_name = []\n",
    "cloudiness = []\n",
    "country = []\n",
    "date = []\n",
    "humidity = []\n",
    "lat = []\n",
    "lng = []\n",
    "max_temp = []\n",
    "wind_speed = []\n",
    "\n",
    "print('Beginning Data Retrieval')\n",
    "print('-----------------------------')\n",
    "\n",
    "for city in cities:\n",
    "    params = {\n",
    "        'q': city,\n",
    "        'appid': weather_api_key\n",
    "    }\n",
    "    \n",
    "    #Catching non 200 response\n",
    "    try:\n",
    "        response = requests.get(url, params=params)\n",
    "        response.raise_for_status()\n",
    "        data = response.json()\n",
    "        \n",
    "        if count < 49:\n",
    "            count += 1\n",
    "        else:\n",
    "            count = 0\n",
    "            set_count += 1\n",
    "                \n",
    "        print(f'Processing Record {count} of Set {set_count} | {city}')\n",
    "        \n",
    "        city_name.append(city)\n",
    "        cloudiness.append(data['clouds']['all'])\n",
    "        country.append(data['sys']['country'])\n",
    "        date.append(data['dt'])\n",
    "        humidity.append(data['main']['humidity'])\n",
    "        lat.append(data['coord']['lat'])\n",
    "        lng.append(data['coord']['lon'])\n",
    "        max_temp.append(round((data['main']['temp_max'] * (9/5) - 459.67), 2))\n",
    "        wind_speed.append(round(data['wind']['speed'] * 2.237, 2))\n",
    "        \n",
    "    except requests.exceptions.HTTPError as e:\n",
    "        print(f\"City not found. Skipping...\")\n",
    "\n",
    "print(\"-----------------------------\\nData Retrieval Complete\\n-----------------------------\")\n",
    "    "
   ]
  },
  {
   "cell_type": "markdown",
   "metadata": {},
   "source": [
    "### Convert Raw Data to DataFrame\n",
    "* Export the city data into a .csv.\n",
    "* Display the DataFrame"
   ]
  },
  {
   "cell_type": "code",
   "execution_count": 23,
   "metadata": {},
   "outputs": [
    {
     "data": {
      "text/plain": [
       "City          576\n",
       "Cloudiness    576\n",
       "Country       576\n",
       "Date          576\n",
       "Humidity      576\n",
       "Lat           576\n",
       "Lng           576\n",
       "Max Temp      576\n",
       "Wind Speed    576\n",
       "dtype: int64"
      ]
     },
     "execution_count": 23,
     "metadata": {},
     "output_type": "execute_result"
    }
   ],
   "source": [
    "df_dict = {\n",
    "    'City': city_name,\n",
    "    'Cloudiness': cloudiness,\n",
    "    'Country': country,\n",
    "    'Date': date,\n",
    "    'Humidity': humidity,\n",
    "    'Lat': lat,\n",
    "    'Lng': lng,\n",
    "    'Max Temp': max_temp,\n",
    "    'Wind Speed': wind_speed\n",
    "}\n",
    "\n",
    "df = pd.DataFrame(df_dict)\n",
    "df.to_csv('Weather_Data.csv', index = False)\n",
    "df.count()"
   ]
  },
  {
   "cell_type": "code",
   "execution_count": 24,
   "metadata": {},
   "outputs": [
    {
     "data": {
      "text/html": [
       "<div>\n",
       "<style scoped>\n",
       "    .dataframe tbody tr th:only-of-type {\n",
       "        vertical-align: middle;\n",
       "    }\n",
       "\n",
       "    .dataframe tbody tr th {\n",
       "        vertical-align: top;\n",
       "    }\n",
       "\n",
       "    .dataframe thead th {\n",
       "        text-align: right;\n",
       "    }\n",
       "</style>\n",
       "<table border=\"1\" class=\"dataframe\">\n",
       "  <thead>\n",
       "    <tr style=\"text-align: right;\">\n",
       "      <th></th>\n",
       "      <th>City</th>\n",
       "      <th>Cloudiness</th>\n",
       "      <th>Country</th>\n",
       "      <th>Date</th>\n",
       "      <th>Humidity</th>\n",
       "      <th>Lat</th>\n",
       "      <th>Lng</th>\n",
       "      <th>Max Temp</th>\n",
       "      <th>Wind Speed</th>\n",
       "    </tr>\n",
       "  </thead>\n",
       "  <tbody>\n",
       "    <tr>\n",
       "      <th>0</th>\n",
       "      <td>lillooet</td>\n",
       "      <td>1</td>\n",
       "      <td>CA</td>\n",
       "      <td>1584335546</td>\n",
       "      <td>45</td>\n",
       "      <td>50.69</td>\n",
       "      <td>-121.94</td>\n",
       "      <td>26.60</td>\n",
       "      <td>10.29</td>\n",
       "    </tr>\n",
       "    <tr>\n",
       "      <th>1</th>\n",
       "      <td>barrow</td>\n",
       "      <td>90</td>\n",
       "      <td>US</td>\n",
       "      <td>1584335249</td>\n",
       "      <td>92</td>\n",
       "      <td>71.29</td>\n",
       "      <td>-156.79</td>\n",
       "      <td>17.60</td>\n",
       "      <td>11.41</td>\n",
       "    </tr>\n",
       "    <tr>\n",
       "      <th>2</th>\n",
       "      <td>mount gambier</td>\n",
       "      <td>15</td>\n",
       "      <td>AU</td>\n",
       "      <td>1584335255</td>\n",
       "      <td>31</td>\n",
       "      <td>-37.83</td>\n",
       "      <td>140.77</td>\n",
       "      <td>75.20</td>\n",
       "      <td>5.82</td>\n",
       "    </tr>\n",
       "    <tr>\n",
       "      <th>3</th>\n",
       "      <td>ikongo</td>\n",
       "      <td>0</td>\n",
       "      <td>MG</td>\n",
       "      <td>1584335546</td>\n",
       "      <td>69</td>\n",
       "      <td>-21.88</td>\n",
       "      <td>47.43</td>\n",
       "      <td>79.05</td>\n",
       "      <td>1.19</td>\n",
       "    </tr>\n",
       "    <tr>\n",
       "      <th>4</th>\n",
       "      <td>sao filipe</td>\n",
       "      <td>30</td>\n",
       "      <td>CV</td>\n",
       "      <td>1584335270</td>\n",
       "      <td>75</td>\n",
       "      <td>14.90</td>\n",
       "      <td>-24.50</td>\n",
       "      <td>70.02</td>\n",
       "      <td>18.48</td>\n",
       "    </tr>\n",
       "  </tbody>\n",
       "</table>\n",
       "</div>"
      ],
      "text/plain": [
       "            City  Cloudiness Country        Date  Humidity    Lat     Lng  \\\n",
       "0       lillooet           1      CA  1584335546        45  50.69 -121.94   \n",
       "1         barrow          90      US  1584335249        92  71.29 -156.79   \n",
       "2  mount gambier          15      AU  1584335255        31 -37.83  140.77   \n",
       "3         ikongo           0      MG  1584335546        69 -21.88   47.43   \n",
       "4     sao filipe          30      CV  1584335270        75  14.90  -24.50   \n",
       "\n",
       "   Max Temp  Wind Speed  \n",
       "0     26.60       10.29  \n",
       "1     17.60       11.41  \n",
       "2     75.20        5.82  \n",
       "3     79.05        1.19  \n",
       "4     70.02       18.48  "
      ]
     },
     "execution_count": 24,
     "metadata": {},
     "output_type": "execute_result"
    }
   ],
   "source": [
    "df.head()"
   ]
  },
  {
   "cell_type": "markdown",
   "metadata": {},
   "source": [
    "### Plotting the Data\n",
    "* Use proper labeling of the plots using plot titles (including date of analysis) and axes labels.\n",
    "* Save the plotted figures as .pngs."
   ]
  },
  {
   "cell_type": "markdown",
   "metadata": {},
   "source": [
    "#### Latitude vs. Temperature Plot"
   ]
  },
  {
   "cell_type": "code",
   "execution_count": 25,
   "metadata": {
    "scrolled": true
   },
   "outputs": [
    {
     "data": {
      "image/png": "[encoded data removed]",
      "text/plain": [
       "<Figure size 432x288 with 1 Axes>"
      ]
     },
     "metadata": {
      "needs_background": "light"
     },
     "output_type": "display_data"
    },
    {
     "data": {
      "text/plain": [
       "<Figure size 432x288 with 0 Axes>"
      ]
     },
     "metadata": {},
     "output_type": "display_data"
    }
   ],
   "source": [
    "plt.scatter(df['Lat'], df['Max Temp'], facecolors='aqua', edgecolors='black')\n",
    "plt.xlabel('Latitude')\n",
    "plt.ylabel('Max Temperature (F)')\n",
    "str_date = datetime.utcfromtimestamp(df.loc[0, 'Date']).strftime('%m/%d/%y')\n",
    "plt.title(f'City Latitude vs. Max Temperature {str_date}')\n",
    "plt.show()\n",
    "\n",
    "plt.savefig('scatter1.png')"
   ]
  },
  {
   "cell_type": "markdown",
   "metadata": {},
   "source": [
    "The graph is a bit skewed because there are more northern hemisphere data points than southern hemisphere, but you can clearly see a pattern that as you move further away from 0 Latitude (equator), the Max Temp begins to drop."
   ]
  },
  {
   "cell_type": "markdown",
   "metadata": {},
   "source": [
    "#### Latitude vs. Humidity Plot"
   ]
  },
  {
   "cell_type": "code",
   "execution_count": 26,
   "metadata": {},
   "outputs": [
    {
     "data": {
      "image/png": "[encoded data removed]",
      "text/plain": [
       "<Figure size 432x288 with 1 Axes>"
      ]
     },
     "metadata": {
      "needs_background": "light"
     },
     "output_type": "display_data"
    },
    {
     "data": {
      "text/plain": [
       "<Figure size 432x288 with 0 Axes>"
      ]
     },
     "metadata": {},
     "output_type": "display_data"
    }
   ],
   "source": [
    "plt.scatter(df['Lat'], df['Humidity'], facecolors='aqua', edgecolors='black')\n",
    "plt.xlabel('Latitude')\n",
    "plt.ylabel('Humidity')\n",
    "plt.title(f'City Latitude vs. Humidity {str_date}')\n",
    "plt.show()\n",
    "plt.savefig('scatter2.png')"
   ]
  },
  {
   "cell_type": "markdown",
   "metadata": {},
   "source": [
    "This graph shows that there is no real relationship between Latitude and Humidity."
   ]
  },
  {
   "cell_type": "markdown",
   "metadata": {},
   "source": [
    "#### Latitude vs. Cloudiness Plot"
   ]
  },
  {
   "cell_type": "code",
   "execution_count": 27,
   "metadata": {},
   "outputs": [
    {
     "data": {
      "image/png": "[encoded data removed]",
      "text/plain": [
       "<Figure size 432x288 with 1 Axes>"
      ]
     },
     "metadata": {
      "needs_background": "light"
     },
     "output_type": "display_data"
    },
    {
     "data": {
      "text/plain": [
       "<Figure size 432x288 with 0 Axes>"
      ]
     },
     "metadata": {},
     "output_type": "display_data"
    }
   ],
   "source": [
    "plt.scatter(df['Lat'], df['Cloudiness'], facecolors='aqua', edgecolors='black')\n",
    "plt.xlabel('Latitude')\n",
    "plt.ylabel('Cloudiness')\n",
    "plt.title(f'City Latitude vs. Cloudiness {str_date}')\n",
    "plt.show()\n",
    "plt.savefig('scatter3.png')"
   ]
  },
  {
   "cell_type": "markdown",
   "metadata": {},
   "source": [
    "This graph shows that there is no real relationship between Latitude and Cloudiness."
   ]
  },
  {
   "cell_type": "markdown",
   "metadata": {},
   "source": [
    "#### Latitude vs. Wind Speed Plot"
   ]
  },
  {
   "cell_type": "code",
   "execution_count": 28,
   "metadata": {},
   "outputs": [
    {
     "data": {
      "image/png": "[encoded data removed]",
      "text/plain": [
       "<Figure size 432x288 with 1 Axes>"
      ]
     },
     "metadata": {
      "needs_background": "light"
     },
     "output_type": "display_data"
    },
    {
     "data": {
      "text/plain": [
       "<Figure size 432x288 with 0 Axes>"
      ]
     },
     "metadata": {},
     "output_type": "display_data"
    }
   ],
   "source": [
    "plt.scatter(df['Lat'], df['Wind Speed'], facecolors='aqua', edgecolors='black')\n",
    "plt.xlabel('Latitude')\n",
    "plt.ylabel('Wind Speed')\n",
    "plt.title(f'City Latitude vs. Wind Speed {str_date}')\n",
    "plt.show()\n",
    "plt.savefig('scatter4.png')"
   ]
  },
  {
   "cell_type": "markdown",
   "metadata": {},
   "source": [
    "This graph shows that there is no real relationship between Latitude and Wind Speed."
   ]
  },
  {
   "cell_type": "markdown",
   "metadata": {},
   "source": [
    "## Linear Regression"
   ]
  },
  {
   "cell_type": "code",
   "execution_count": 29,
   "metadata": {},
   "outputs": [],
   "source": [
    "# OPTIONAL: Create a function to create Linear Regression plots\n",
    "def plot_regress_line(x_values, y_values):   \n",
    "    (slope, intercept, rvalue, pvalue, stderr) = linregress(x_values, y_values)\n",
    "    regress_values = x_values * slope + intercept\n",
    "    line_eq = \"y = \" + str(round(slope,2)) + \"x + \" + str(round(intercept,2))\n",
    "    plt.plot(x_values,regress_values,\"r-\")\n",
    "    return {rvalue, line_eq}"
   ]
  },
  {
   "cell_type": "code",
   "execution_count": 30,
   "metadata": {},
   "outputs": [],
   "source": [
    "# Create Northern and Southern Hemisphere DataFrames\n",
    "south_df = df[df['Lat'] < 0]\n",
    "north_df = df[df['Lat'] > 0]"
   ]
  },
  {
   "cell_type": "markdown",
   "metadata": {},
   "source": [
    "####  Northern Hemisphere - Max Temp vs. Latitude Linear Regression"
   ]
  },
  {
   "cell_type": "code",
   "execution_count": 31,
   "metadata": {},
   "outputs": [
    {
     "name": "stdout",
     "output_type": "stream",
     "text": [
      "The r-squared is: -0.8890889628606075\n"
     ]
    },
    {
     "data": {
      "image/png": "[encoded data removed]",
      "text/plain": [
       "<Figure size 432x288 with 1 Axes>"
      ]
     },
     "metadata": {
      "needs_background": "light"
     },
     "output_type": "display_data"
    },
    {
     "data": {
      "text/plain": [
       "<Figure size 432x288 with 0 Axes>"
      ]
     },
     "metadata": {},
     "output_type": "display_data"
    }
   ],
   "source": [
    "plt.scatter(north_df['Lat'], north_df['Max Temp'], facecolors='aqua', edgecolors='black')\n",
    "plt.xlabel('Latitude')\n",
    "plt.ylabel('Max Temp')\n",
    "rvalue, line_eq = plot_regress_line(north_df['Lat'], north_df['Max Temp'])\n",
    "plt.annotate(line_eq,(0,-20),fontsize=15,color=\"red\")\n",
    "print(f\"The r-squared is: {rvalue}\")\n",
    "plt.show()\n",
    "plt.savefig('scatter5.png')"
   ]
  },
  {
   "cell_type": "markdown",
   "metadata": {},
   "source": [
    "The linear regression shows a negative correlation between latitude and max temp. As you move further north away from 0 lat, the Max Temp moves torwards a negative value."
   ]
  },
  {
   "cell_type": "markdown",
   "metadata": {},
   "source": [
    "####  Southern Hemisphere - Max Temp vs. Latitude Linear Regression"
   ]
  },
  {
   "cell_type": "code",
   "execution_count": 32,
   "metadata": {},
   "outputs": [
    {
     "name": "stdout",
     "output_type": "stream",
     "text": [
      "The r-squared is: 0.519682514418156\n"
     ]
    },
    {
     "data": {
      "image/png": "[encoded data removed]",
      "text/plain": [
       "<Figure size 432x288 with 1 Axes>"
      ]
     },
     "metadata": {
      "needs_background": "light"
     },
     "output_type": "display_data"
    },
    {
     "data": {
      "text/plain": [
       "<Figure size 432x288 with 0 Axes>"
      ]
     },
     "metadata": {},
     "output_type": "display_data"
    }
   ],
   "source": [
    "plt.scatter(south_df['Lat'], south_df['Max Temp'], facecolors='aqua', edgecolors='black')\n",
    "plt.xlabel('Latitude')\n",
    "plt.ylabel('Max Temp')\n",
    "rvalue, line_eq = plot_regress_line(south_df['Lat'], south_df['Max Temp'])\n",
    "plt.annotate(line_eq,(-30,50),fontsize=15,color=\"red\")\n",
    "print(f\"The r-squared is: {rvalue}\")\n",
    "plt.show()\n",
    "plt.savefig('scatter6.png')"
   ]
  },
  {
   "cell_type": "markdown",
   "metadata": {},
   "source": [
    "The linear regression shows a positive correlation between latitude and max temp for the southern hemisphere. As you move towards the equator from the furthest souther point, the max temp moves torwards higher positive values."
   ]
  },
  {
   "cell_type": "markdown",
   "metadata": {},
   "source": [
    "####  Northern Hemisphere - Humidity (%) vs. Latitude Linear Regression"
   ]
  },
  {
   "cell_type": "code",
   "execution_count": 33,
   "metadata": {},
   "outputs": [
    {
     "name": "stdout",
     "output_type": "stream",
     "text": [
      "The r-squared is: 0.319349168222469\n"
     ]
    },
    {
     "data": {
      "image/png": "[encoded data removed]",
      "text/plain": [
       "<Figure size 432x288 with 1 Axes>"
      ]
     },
     "metadata": {
      "needs_background": "light"
     },
     "output_type": "display_data"
    },
    {
     "data": {
      "text/plain": [
       "<Figure size 432x288 with 0 Axes>"
      ]
     },
     "metadata": {},
     "output_type": "display_data"
    }
   ],
   "source": [
    "plt.scatter(north_df['Lat'], north_df['Humidity'], facecolors='aqua', edgecolors='black')\n",
    "plt.xlabel('Latitude')\n",
    "plt.ylabel('Humidity')\n",
    "rvalue, line_eq = plot_regress_line(north_df['Lat'], north_df['Humidity'])\n",
    "plt.annotate(line_eq,(40,20),fontsize=15,color=\"red\")\n",
    "print(f\"The r-squared is: {rvalue}\")\n",
    "plt.show()\n",
    "plt.savefig('scatter7.png')"
   ]
  },
  {
   "cell_type": "markdown",
   "metadata": {},
   "source": [
    "The linear regression shows little to no correlation between humidity and latitude in the northern hemisphere."
   ]
  },
  {
   "cell_type": "markdown",
   "metadata": {},
   "source": [
    "####  Southern Hemisphere - Humidity (%) vs. Latitude Linear Regression"
   ]
  },
  {
   "cell_type": "code",
   "execution_count": 34,
   "metadata": {},
   "outputs": [
    {
     "name": "stdout",
     "output_type": "stream",
     "text": [
      "The r-squared is: 0.33861023632082526\n"
     ]
    },
    {
     "data": {
      "image/png": "[encoded data removed]",
      "text/plain": [
       "<Figure size 432x288 with 1 Axes>"
      ]
     },
     "metadata": {
      "needs_background": "light"
     },
     "output_type": "display_data"
    },
    {
     "data": {
      "text/plain": [
       "<Figure size 432x288 with 0 Axes>"
      ]
     },
     "metadata": {},
     "output_type": "display_data"
    }
   ],
   "source": [
    "plt.scatter(south_df['Lat'], south_df['Humidity'], facecolors='aqua', edgecolors='black')\n",
    "plt.xlabel('Latitude')\n",
    "plt.ylabel('Humidity')\n",
    "rvalue, line_eq = plot_regress_line(south_df['Lat'], south_df['Humidity'])\n",
    "plt.annotate(line_eq,(-50,20),fontsize=15,color=\"red\")\n",
    "print(f\"The r-squared is: {rvalue}\")\n",
    "plt.show()\n",
    "plt.savefig('scatter8.png')"
   ]
  },
  {
   "cell_type": "markdown",
   "metadata": {},
   "source": [
    "The linear regression shows little to no correlation between humidity and latitude in the southern hemisphere."
   ]
  },
  {
   "cell_type": "markdown",
   "metadata": {},
   "source": [
    "####  Northern Hemisphere - Cloudiness (%) vs. Latitude Linear Regression"
   ]
  },
  {
   "cell_type": "code",
   "execution_count": 35,
   "metadata": {},
   "outputs": [
    {
     "name": "stdout",
     "output_type": "stream",
     "text": [
      "The r-squared is: 0.20354758294638395\n"
     ]
    },
    {
     "data": {
      "image/png": "[encoded data removed]",
      "text/plain": [
       "<Figure size 432x288 with 1 Axes>"
      ]
     },
     "metadata": {
      "needs_background": "light"
     },
     "output_type": "display_data"
    },
    {
     "data": {
      "text/plain": [
       "<Figure size 432x288 with 0 Axes>"
      ]
     },
     "metadata": {},
     "output_type": "display_data"
    }
   ],
   "source": [
    "plt.scatter(north_df['Lat'], north_df['Cloudiness'], facecolors='aqua', edgecolors='black')\n",
    "plt.xlabel('Latitude')\n",
    "plt.ylabel('Cloudiness')\n",
    "rvalue, line_eq = plot_regress_line(north_df['Lat'], north_df['Cloudiness'])\n",
    "plt.annotate(line_eq,(40,30),fontsize=15,color=\"red\")\n",
    "print(f\"The r-squared is: {rvalue}\")\n",
    "plt.show()\n",
    "plt.savefig('scatter9.png')"
   ]
  },
  {
   "cell_type": "markdown",
   "metadata": {},
   "source": [
    "The linear regression shows almost no correlation between cloudiness and latitude in the northern hemisphere."
   ]
  },
  {
   "cell_type": "markdown",
   "metadata": {},
   "source": [
    "####  Southern Hemisphere - Cloudiness (%) vs. Latitude Linear Regression"
   ]
  },
  {
   "cell_type": "code",
   "execution_count": 36,
   "metadata": {},
   "outputs": [
    {
     "name": "stdout",
     "output_type": "stream",
     "text": [
      "The r-squared is: 0.1898209344001506\n"
     ]
    },
    {
     "data": {
      "image/png": "[encoded data removed]",
      "text/plain": [
       "<Figure size 432x288 with 1 Axes>"
      ]
     },
     "metadata": {
      "needs_background": "light"
     },
     "output_type": "display_data"
    },
    {
     "data": {
      "text/plain": [
       "<Figure size 432x288 with 0 Axes>"
      ]
     },
     "metadata": {},
     "output_type": "display_data"
    }
   ],
   "source": [
    "plt.scatter(south_df['Lat'], south_df['Cloudiness'], facecolors='aqua', edgecolors='black')\n",
    "plt.xlabel('Latitude')\n",
    "plt.ylabel('Cloudiness')\n",
    "rvalue, line_eq = plot_regress_line(south_df['Lat'], south_df['Cloudiness'])\n",
    "plt.annotate(line_eq,(-50,30),fontsize=15,color=\"red\")\n",
    "print(f\"The r-squared is: {rvalue}\")\n",
    "plt.show()\n",
    "plt.savefig('scatter10.png')"
   ]
  },
  {
   "cell_type": "markdown",
   "metadata": {},
   "source": [
    "The linear regression shows almost no correlation between cloudiness and latitude in the southern hemisphere."
   ]
  },
  {
   "cell_type": "markdown",
   "metadata": {},
   "source": [
    "####  Northern Hemisphere - Wind Speed (mph) vs. Latitude Linear Regression"
   ]
  },
  {
   "cell_type": "code",
   "execution_count": 37,
   "metadata": {},
   "outputs": [
    {
     "name": "stdout",
     "output_type": "stream",
     "text": [
      "The r-squared is: 0.22235237057810894\n"
     ]
    },
    {
     "data": {
      "image/png": "[encoded data removed]",
      "text/plain": [
       "<Figure size 432x288 with 1 Axes>"
      ]
     },
     "metadata": {
      "needs_background": "light"
     },
     "output_type": "display_data"
    },
    {
     "data": {
      "text/plain": [
       "<Figure size 432x288 with 0 Axes>"
      ]
     },
     "metadata": {},
     "output_type": "display_data"
    }
   ],
   "source": [
    "plt.scatter(north_df['Lat'], north_df['Wind Speed'], facecolors='aqua', edgecolors='black')\n",
    "plt.xlabel('Latitude')\n",
    "plt.ylabel('Wind Speed')\n",
    "rvalue, line_eq = plot_regress_line(north_df['Lat'], north_df['Wind Speed'])\n",
    "plt.annotate(line_eq,(0,25),fontsize=15,color=\"red\")\n",
    "print(f\"The r-squared is: {rvalue}\")\n",
    "plt.show()\n",
    "plt.savefig('scatter11.png')"
   ]
  },
  {
   "cell_type": "markdown",
   "metadata": {},
   "source": [
    "The linear regression shows almost no correlation between wind speed and latitude in the northern hemisphere."
   ]
  },
  {
   "cell_type": "markdown",
   "metadata": {},
   "source": [
    "####  Southern Hemisphere - Wind Speed (mph) vs. Latitude Linear Regression"
   ]
  },
  {
   "cell_type": "code",
   "execution_count": 38,
   "metadata": {},
   "outputs": [
    {
     "name": "stdout",
     "output_type": "stream",
     "text": [
      "The r-squared is: -0.2679184297836321\n"
     ]
    },
    {
     "data": {
      "image/png": "[encoded data removed]",
      "text/plain": [
       "<Figure size 432x288 with 1 Axes>"
      ]
     },
     "metadata": {
      "needs_background": "light"
     },
     "output_type": "display_data"
    },
    {
     "data": {
      "text/plain": [
       "<Figure size 432x288 with 0 Axes>"
      ]
     },
     "metadata": {},
     "output_type": "display_data"
    }
   ],
   "source": [
    "plt.scatter(south_df['Lat'], south_df['Wind Speed'], facecolors='aqua', edgecolors='black')\n",
    "plt.xlabel('Latitude')\n",
    "plt.ylabel('Wind Speed')\n",
    "rvalue, line_eq = plot_regress_line(south_df['Lat'], south_df['Wind Speed'])\n",
    "plt.annotate(line_eq,(-30,30),fontsize=15,color=\"red\")\n",
    "print(f\"The r-squared is: {rvalue}\")\n",
    "plt.show()\n",
    "plt.savefig('scatter12.png')"
   ]
  },
  {
   "cell_type": "markdown",
   "metadata": {},
   "source": [
    "The linear regression shows little to no correlation between wind speed and latitude in the southern hemisphere."
   ]
  },
  {
   "cell_type": "markdown",
   "metadata": {},
   "source": [
    "3 trends that I noticed are:\n",
    "* 1) As you move further north from the equator the max temperature decreases.\n",
    "* 2) As you move further north torwards the equator the max temperature increases.\n",
    "* 3) Location has very little impact on cloudiness and wind speed. "
   ]
  },
  {
   "cell_type": "code",
   "execution_count": null,
   "metadata": {},
   "outputs": [],
   "source": []
  }
 ],
 "metadata": {
  "anaconda-cloud": {},
  "kernel_info": {
   "name": "python3"
  },
  "kernelspec": {
   "display_name": "Python 3",
   "language": "python",
   "name": "python3"
  },
  "language_info": {
   "codemirror_mode": {
    "name": "ipython",
    "version": 3
   },
   "file_extension": ".py",
   "mimetype": "text/x-python",
   "name": "python",
   "nbconvert_exporter": "python",
   "pygments_lexer": "ipython3",
   "version": "3.6.10"
  },
  "latex_envs": {
   "LaTeX_envs_menu_present": true,
   "autoclose": false,
   "autocomplete": true,
   "bibliofile": "biblio.bib",
   "cite_by": "apalike",
   "current_citInitial": 1,
   "eqLabelWithNumbers": true,
   "eqNumInitial": 1,
   "hotkeys": {
    "equation": "Ctrl-E",
    "itemize": "Ctrl-I"
   },
   "labels_anchors": false,
   "latex_user_defs": false,
   "report_style_numbering": false,
   "user_envs_cfg": false
  },
  "nteract": {
   "version": "0.12.3"
  }
 },
 "nbformat": 4,
 "nbformat_minor": 2
}
