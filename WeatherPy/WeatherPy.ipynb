{
 "cells": [
  {
   "cell_type": "markdown",
   "metadata": {},
   "source": [
    "# WeatherPy\n",
    "----\n",
    "\n",
    "#### Note\n",
    "* Instructions have been included for each segment. You do not have to follow them exactly, but they are included to help you think through the steps."
   ]
  },
  {
   "cell_type": "code",
   "execution_count": 5,
   "metadata": {
    "scrolled": true
   },
   "outputs": [],
   "source": [
    "# Dependencies and Setup\n",
    "import matplotlib.pyplot as plt\n",
    "import pandas as pd\n",
    "import numpy as np\n",
    "import requests\n",
    "import time\n",
    "from scipy.stats import linregress\n",
    "from datetime import datetime\n",
    "\n",
    "# Import API key\n",
    "from api_keys import weather_api_key\n",
    "\n",
    "# Incorporated citipy to determine city based on latitude and longitude\n",
    "from citipy import citipy\n",
    "\n",
    "# Output File (CSV)\n",
    "output_data_file = \"output_data/cities.csv\"\n",
    "\n",
    "# Range of latitudes and longitudes\n",
    "lat_range = (-90, 90)\n",
    "lng_range = (-180, 180)"
   ]
  },
  {
   "cell_type": "markdown",
   "metadata": {},
   "source": [
    "## Generate Cities List"
   ]
  },
  {
   "cell_type": "code",
   "execution_count": 6,
   "metadata": {},
   "outputs": [
    {
     "data": {
      "text/plain": [
       "629"
      ]
     },
     "execution_count": 6,
     "metadata": {},
     "output_type": "execute_result"
    }
   ],
   "source": [
    "# List for holding lat_lngs and cities\n",
    "lat_lngs = []\n",
    "cities = []\n",
    "\n",
    "# Create a set of random lat and lng combinations\n",
    "lats = np.random.uniform(low=-90.000, high=90.000, size=1500)\n",
    "lngs = np.random.uniform(low=-180.000, high=180.000, size=1500)\n",
    "lat_lngs = zip(lats, lngs)\n",
    "\n",
    "# Identify nearest city for each lat, lng combination\n",
    "for lat_lng in lat_lngs:\n",
    "    city = citipy.nearest_city(lat_lng[0], lat_lng[1]).city_name\n",
    "    \n",
    "    # If the city is unique, then add it to a our cities list\n",
    "    if city not in cities:\n",
    "        cities.append(city)\n",
    "\n",
    "# Print the city count to confirm sufficient count\n",
    "len(cities)"
   ]
  },
  {
   "cell_type": "markdown",
   "metadata": {},
   "source": [
    "### Perform API Calls\n",
    "* Perform a weather check on each city using a series of successive API calls.\n",
    "* Include a print log of each city as it'sbeing processed (with the city number and city name).\n"
   ]
  },
  {
   "cell_type": "code",
   "execution_count": 7,
   "metadata": {},
   "outputs": [
    {
     "name": "stdout",
     "output_type": "stream",
     "text": [
      "Beginning Data Retrieval\n",
      "-----------------------------\n",
      "Processing Record 1 of Set 1 | mataura\n",
      "Processing Record 2 of Set 1 | barrow\n",
      "Processing Record 3 of Set 1 | gamba\n",
      "Processing Record 4 of Set 1 | fort-shevchenko\n",
      "Processing Record 5 of Set 1 | east london\n",
      "Processing Record 6 of Set 1 | montreal\n",
      "City not found. Skipping...\n",
      "City not found. Skipping...\n",
      "Processing Record 7 of Set 1 | ushuaia\n",
      "Processing Record 8 of Set 1 | hami\n",
      "Processing Record 9 of Set 1 | hobart\n",
      "Processing Record 10 of Set 1 | olafsvik\n",
      "Processing Record 11 of Set 1 | esperance\n",
      "Processing Record 12 of Set 1 | hilo\n",
      "Processing Record 13 of Set 1 | busselton\n",
      "Processing Record 14 of Set 1 | redcliffe\n",
      "Processing Record 15 of Set 1 | butaritari\n",
      "Processing Record 16 of Set 1 | perth\n",
      "Processing Record 17 of Set 1 | port shepstone\n",
      "Processing Record 18 of Set 1 | thinadhoo\n",
      "Processing Record 19 of Set 1 | dawei\n",
      "Processing Record 20 of Set 1 | lebu\n",
      "Processing Record 21 of Set 1 | manica\n",
      "Processing Record 22 of Set 1 | tuatapere\n",
      "City not found. Skipping...\n",
      "Processing Record 23 of Set 1 | new norfolk\n",
      "Processing Record 24 of Set 1 | lasa\n",
      "Processing Record 25 of Set 1 | rikitea\n",
      "Processing Record 26 of Set 1 | puerto ayora\n",
      "Processing Record 27 of Set 1 | albany\n",
      "Processing Record 28 of Set 1 | salalah\n",
      "Processing Record 29 of Set 1 | berlevag\n",
      "Processing Record 30 of Set 1 | jamestown\n",
      "Processing Record 31 of Set 1 | bluff\n",
      "Processing Record 32 of Set 1 | kailua\n",
      "Processing Record 33 of Set 1 | leningradskiy\n",
      "Processing Record 34 of Set 1 | ahuimanu\n",
      "Processing Record 35 of Set 1 | qaanaaq\n",
      "Processing Record 36 of Set 1 | stromness\n",
      "Processing Record 37 of Set 1 | bethel\n",
      "Processing Record 38 of Set 1 | port elizabeth\n",
      "Processing Record 39 of Set 1 | alugan\n",
      "Processing Record 40 of Set 1 | ponta do sol\n",
      "Processing Record 41 of Set 1 | kodiak\n",
      "Processing Record 42 of Set 1 | hermanus\n",
      "Processing Record 43 of Set 1 | itaituba\n",
      "Processing Record 44 of Set 1 | hobyo\n",
      "Processing Record 45 of Set 1 | mananara\n",
      "Processing Record 46 of Set 1 | morros\n",
      "Processing Record 47 of Set 1 | pevek\n",
      "Processing Record 48 of Set 1 | itaueira\n",
      "Processing Record 49 of Set 1 | torbay\n",
      "Processing Record 0 of Set 2 | srednekolymsk\n",
      "Processing Record 1 of Set 2 | nioro\n",
      "Processing Record 2 of Set 2 | batticaloa\n",
      "Processing Record 3 of Set 2 | soria\n",
      "Processing Record 4 of Set 2 | bafq\n",
      "Processing Record 5 of Set 2 | iqaluit\n",
      "Processing Record 6 of Set 2 | grimshaw\n",
      "City not found. Skipping...\n",
      "Processing Record 7 of Set 2 | sur\n",
      "Processing Record 8 of Set 2 | wattegama\n",
      "Processing Record 9 of Set 2 | thompson\n",
      "City not found. Skipping...\n",
      "Processing Record 10 of Set 2 | tasiilaq\n",
      "Processing Record 11 of Set 2 | castro\n",
      "Processing Record 12 of Set 2 | shimoda\n",
      "Processing Record 13 of Set 2 | sao filipe\n",
      "City not found. Skipping...\n",
      "Processing Record 14 of Set 2 | kuandian\n",
      "Processing Record 15 of Set 2 | sangar\n",
      "Processing Record 16 of Set 2 | ancud\n",
      "Processing Record 17 of Set 2 | tiksi\n",
      "Processing Record 18 of Set 2 | kautokeino\n",
      "Processing Record 19 of Set 2 | cape town\n",
      "Processing Record 20 of Set 2 | saskylakh\n",
      "Processing Record 21 of Set 2 | anadyr\n",
      "Processing Record 22 of Set 2 | atuona\n",
      "Processing Record 23 of Set 2 | laguna\n",
      "Processing Record 24 of Set 2 | leh\n",
      "City not found. Skipping...\n",
      "Processing Record 25 of Set 2 | oranjestad\n",
      "Processing Record 26 of Set 2 | southbridge\n",
      "Processing Record 27 of Set 2 | mujiayingzi\n",
      "Processing Record 28 of Set 2 | airai\n",
      "Processing Record 29 of Set 2 | bambous virieux\n",
      "Processing Record 30 of Set 2 | moron\n",
      "Processing Record 31 of Set 2 | ijevan\n",
      "Processing Record 32 of Set 2 | monterey\n",
      "Processing Record 33 of Set 2 | jiuquan\n",
      "Processing Record 34 of Set 2 | punta arenas\n",
      "Processing Record 35 of Set 2 | plouzane\n",
      "City not found. Skipping...\n",
      "Processing Record 36 of Set 2 | mwanza\n",
      "Processing Record 37 of Set 2 | upernavik\n",
      "City not found. Skipping...\n",
      "Processing Record 38 of Set 2 | beringovskiy\n",
      "Processing Record 39 of Set 2 | yellowknife\n",
      "Processing Record 40 of Set 2 | sayyan\n",
      "Processing Record 41 of Set 2 | ahipara\n",
      "Processing Record 42 of Set 2 | hithadhoo\n",
      "Processing Record 43 of Set 2 | guerrero negro\n",
      "Processing Record 44 of Set 2 | tieli\n",
      "Processing Record 45 of Set 2 | kushmurun\n",
      "Processing Record 46 of Set 2 | sept-iles\n",
      "Processing Record 47 of Set 2 | victoria\n",
      "Processing Record 48 of Set 2 | fortuna\n",
      "Processing Record 49 of Set 2 | provideniya\n",
      "Processing Record 0 of Set 3 | kapaa\n",
      "Processing Record 1 of Set 3 | puerto madryn\n",
      "City not found. Skipping...\n",
      "Processing Record 2 of Set 3 | arraial do cabo\n",
      "Processing Record 3 of Set 3 | lorengau\n",
      "Processing Record 4 of Set 3 | ribeira grande\n",
      "Processing Record 5 of Set 3 | clyde river\n",
      "Processing Record 6 of Set 3 | gerede\n",
      "Processing Record 7 of Set 3 | aswan\n",
      "Processing Record 8 of Set 3 | winnemucca\n",
      "Processing Record 9 of Set 3 | port alfred\n",
      "Processing Record 10 of Set 3 | nikolskoye\n",
      "Processing Record 11 of Set 3 | chokurdakh\n",
      "Processing Record 12 of Set 3 | labuan\n",
      "Processing Record 13 of Set 3 | fairbanks\n",
      "Processing Record 14 of Set 3 | novocherkassk\n",
      "Processing Record 15 of Set 3 | dikson\n",
      "Processing Record 16 of Set 3 | mahebourg\n",
      "Processing Record 17 of Set 3 | sorland\n",
      "Processing Record 18 of Set 3 | yarkovo\n",
      "Processing Record 19 of Set 3 | cabo san lucas\n",
      "Processing Record 20 of Set 3 | weihai\n",
      "City not found. Skipping...\n",
      "City not found. Skipping...\n",
      "Processing Record 21 of Set 3 | katsuura\n",
      "Processing Record 22 of Set 3 | riyadh\n",
      "City not found. Skipping...\n",
      "Processing Record 23 of Set 3 | tual\n",
      "Processing Record 24 of Set 3 | lagoa\n",
      "Processing Record 25 of Set 3 | scarborough\n",
      "Processing Record 26 of Set 3 | khatanga\n",
      "Processing Record 27 of Set 3 | avarua\n",
      "Processing Record 28 of Set 3 | chernyshevskiy\n",
      "Processing Record 29 of Set 3 | colac\n",
      "Processing Record 30 of Set 3 | champerico\n",
      "City not found. Skipping...\n",
      "Processing Record 31 of Set 3 | tombouctou\n",
      "City not found. Skipping...\n",
      "Processing Record 32 of Set 3 | amapa\n",
      "Processing Record 33 of Set 3 | daan\n",
      "Processing Record 34 of Set 3 | galesong\n",
      "Processing Record 35 of Set 3 | faya\n",
      "City not found. Skipping...\n",
      "Processing Record 36 of Set 3 | lompoc\n",
      "Processing Record 37 of Set 3 | dolores\n",
      "Processing Record 38 of Set 3 | aljezur\n",
      "Processing Record 39 of Set 3 | mount isa\n",
      "City not found. Skipping...\n",
      "Processing Record 40 of Set 3 | ozinki\n",
      "Processing Record 41 of Set 3 | borgarnes\n",
      "Processing Record 42 of Set 3 | koregaon\n",
      "Processing Record 43 of Set 3 | akyab\n",
      "Processing Record 44 of Set 3 | kaoma\n",
      "Processing Record 45 of Set 3 | yar-sale\n",
      "City not found. Skipping...\n",
      "Processing Record 46 of Set 3 | santa maria\n",
      "Processing Record 47 of Set 3 | georgetown\n",
      "Processing Record 48 of Set 3 | krasnyy klyuch\n",
      "Processing Record 49 of Set 3 | pangody\n",
      "Processing Record 0 of Set 4 | yongzhou\n",
      "Processing Record 1 of Set 4 | cururupu\n",
      "Processing Record 2 of Set 4 | chuy\n",
      "Processing Record 3 of Set 4 | steamboat springs\n",
      "Processing Record 4 of Set 4 | mar del plata\n",
      "Processing Record 5 of Set 4 | sao goncalo do sapucai\n",
      "Processing Record 6 of Set 4 | petropavlovsk-kamchatskiy\n",
      "Processing Record 7 of Set 4 | severo-kurilsk\n",
      "City not found. Skipping...\n",
      "Processing Record 8 of Set 4 | miramar\n",
      "City not found. Skipping...\n",
      "Processing Record 9 of Set 4 | bathsheba\n",
      "Processing Record 10 of Set 4 | labuhan\n",
      "Processing Record 11 of Set 4 | saint anthony\n",
      "Processing Record 12 of Set 4 | geraldton\n",
      "Processing Record 13 of Set 4 | norman wells\n",
      "Processing Record 14 of Set 4 | huarmey\n",
      "Processing Record 15 of Set 4 | chingirlau\n",
      "Processing Record 16 of Set 4 | comodoro rivadavia\n",
      "Processing Record 17 of Set 4 | esso\n",
      "Processing Record 18 of Set 4 | mont-de-marsan\n",
      "Processing Record 19 of Set 4 | codajas\n",
      "Processing Record 20 of Set 4 | hopewell\n",
      "Processing Record 21 of Set 4 | vaini\n",
      "Processing Record 22 of Set 4 | coihaique\n",
      "Processing Record 23 of Set 4 | impfondo\n",
      "Processing Record 24 of Set 4 | guayaramerin\n",
      "Processing Record 25 of Set 4 | kaitangata\n",
      "Processing Record 26 of Set 4 | turukhansk\n",
      "Processing Record 27 of Set 4 | saint-marc\n",
      "Processing Record 28 of Set 4 | tuktoyaktuk\n",
      "Processing Record 29 of Set 4 | ilulissat\n",
      "Processing Record 30 of Set 4 | sola\n",
      "Processing Record 31 of Set 4 | tazovskiy\n",
      "Processing Record 32 of Set 4 | bayan\n",
      "Processing Record 33 of Set 4 | walvis bay\n",
      "Processing Record 34 of Set 4 | dire\n",
      "City not found. Skipping...\n"
     ]
    },
    {
     "name": "stdout",
     "output_type": "stream",
     "text": [
      "Processing Record 35 of Set 4 | vanavara\n",
      "Processing Record 36 of Set 4 | saint-augustin\n",
      "Processing Record 37 of Set 4 | qasigiannguit\n",
      "Processing Record 38 of Set 4 | saint-philippe\n",
      "Processing Record 39 of Set 4 | la rioja\n",
      "Processing Record 40 of Set 4 | osmena\n",
      "Processing Record 41 of Set 4 | yenagoa\n",
      "Processing Record 42 of Set 4 | port lincoln\n",
      "City not found. Skipping...\n",
      "Processing Record 43 of Set 4 | langholm\n",
      "Processing Record 44 of Set 4 | grand-bourg\n",
      "Processing Record 45 of Set 4 | bredasdorp\n",
      "Processing Record 46 of Set 4 | ndago\n",
      "Processing Record 47 of Set 4 | ascension\n",
      "Processing Record 48 of Set 4 | dingle\n",
      "Processing Record 49 of Set 4 | bakchar\n",
      "Processing Record 0 of Set 5 | umm lajj\n",
      "Processing Record 1 of Set 5 | beloha\n",
      "Processing Record 2 of Set 5 | port hardy\n",
      "Processing Record 3 of Set 5 | olinda\n",
      "Processing Record 4 of Set 5 | maragogi\n",
      "Processing Record 5 of Set 5 | iberia\n",
      "Processing Record 6 of Set 5 | namibe\n",
      "City not found. Skipping...\n",
      "Processing Record 7 of Set 5 | porto santo\n",
      "Processing Record 8 of Set 5 | finschhafen\n",
      "Processing Record 9 of Set 5 | jumla\n",
      "Processing Record 10 of Set 5 | kargasok\n",
      "Processing Record 11 of Set 5 | qaqortoq\n",
      "Processing Record 12 of Set 5 | beitbridge\n",
      "Processing Record 13 of Set 5 | humaita\n",
      "City not found. Skipping...\n",
      "Processing Record 14 of Set 5 | bairiki\n",
      "Processing Record 15 of Set 5 | mezen\n",
      "Processing Record 16 of Set 5 | kara-tyube\n",
      "Processing Record 17 of Set 5 | tabuk\n",
      "Processing Record 18 of Set 5 | taoudenni\n",
      "Processing Record 19 of Set 5 | warner robins\n",
      "Processing Record 20 of Set 5 | codrington\n",
      "Processing Record 21 of Set 5 | dayong\n",
      "Processing Record 22 of Set 5 | guaruja\n",
      "Processing Record 23 of Set 5 | buraydah\n",
      "Processing Record 24 of Set 5 | emba\n",
      "Processing Record 25 of Set 5 | luderitz\n",
      "Processing Record 26 of Set 5 | wakkanai\n",
      "Processing Record 27 of Set 5 | hovd\n",
      "Processing Record 28 of Set 5 | kropotkin\n",
      "Processing Record 29 of Set 5 | mount gambier\n",
      "Processing Record 30 of Set 5 | misratah\n",
      "Processing Record 31 of Set 5 | bayangol\n",
      "Processing Record 32 of Set 5 | krasnyy luch\n",
      "Processing Record 33 of Set 5 | tabas\n",
      "Processing Record 34 of Set 5 | kiama\n",
      "Processing Record 35 of Set 5 | miyako\n",
      "Processing Record 36 of Set 5 | hirara\n",
      "Processing Record 37 of Set 5 | birsk\n",
      "Processing Record 38 of Set 5 | nanortalik\n",
      "City not found. Skipping...\n",
      "Processing Record 39 of Set 5 | faanui\n",
      "Processing Record 40 of Set 5 | pyinmana\n",
      "Processing Record 41 of Set 5 | abu samrah\n",
      "Processing Record 42 of Set 5 | kodinsk\n",
      "Processing Record 43 of Set 5 | kati\n",
      "Processing Record 44 of Set 5 | nagato\n",
      "Processing Record 45 of Set 5 | torit\n",
      "Processing Record 46 of Set 5 | lazurne\n",
      "Processing Record 47 of Set 5 | tynda\n",
      "Processing Record 48 of Set 5 | ulagan\n",
      "Processing Record 49 of Set 5 | parabel\n",
      "Processing Record 0 of Set 6 | egvekinot\n",
      "Processing Record 1 of Set 6 | kemijarvi\n",
      "Processing Record 2 of Set 6 | kruisfontein\n",
      "Processing Record 3 of Set 6 | oranjemund\n",
      "Processing Record 4 of Set 6 | mana\n",
      "Processing Record 5 of Set 6 | nome\n",
      "Processing Record 6 of Set 6 | sibolga\n",
      "Processing Record 7 of Set 6 | benghazi\n",
      "Processing Record 8 of Set 6 | paita\n",
      "Processing Record 9 of Set 6 | guadalupe victoria\n",
      "Processing Record 10 of Set 6 | tiarei\n",
      "Processing Record 11 of Set 6 | rabo de peixe\n",
      "Processing Record 12 of Set 6 | fare\n",
      "Processing Record 13 of Set 6 | bengkulu\n",
      "Processing Record 14 of Set 6 | valdivia\n",
      "Processing Record 15 of Set 6 | alofi\n",
      "Processing Record 16 of Set 6 | pangnirtung\n",
      "Processing Record 17 of Set 6 | castro daire\n",
      "Processing Record 18 of Set 6 | manggar\n",
      "Processing Record 19 of Set 6 | sukhobuzimskoye\n",
      "City not found. Skipping...\n",
      "Processing Record 20 of Set 6 | san jose\n",
      "Processing Record 21 of Set 6 | valparaiso\n",
      "Processing Record 22 of Set 6 | sol-iletsk\n",
      "Processing Record 23 of Set 6 | gizo\n",
      "Processing Record 24 of Set 6 | san remigio\n",
      "Processing Record 25 of Set 6 | beyneu\n",
      "Processing Record 26 of Set 6 | morgan city\n",
      "Processing Record 27 of Set 6 | kieta\n",
      "Processing Record 28 of Set 6 | taft\n",
      "Processing Record 29 of Set 6 | fort nelson\n",
      "Processing Record 30 of Set 6 | ormara\n",
      "Processing Record 31 of Set 6 | diapaga\n",
      "City not found. Skipping...\n",
      "Processing Record 32 of Set 6 | mattru\n",
      "Processing Record 33 of Set 6 | kavieng\n",
      "Processing Record 34 of Set 6 | yerbogachen\n",
      "Processing Record 35 of Set 6 | cotonou\n",
      "Processing Record 36 of Set 6 | novikovo\n",
      "Processing Record 37 of Set 6 | hasaki\n",
      "Processing Record 38 of Set 6 | burnie\n",
      "Processing Record 39 of Set 6 | carnarvon\n",
      "Processing Record 40 of Set 6 | kamaishi\n",
      "City not found. Skipping...\n",
      "Processing Record 41 of Set 6 | nelson bay\n",
      "Processing Record 42 of Set 6 | ketchikan\n",
      "City not found. Skipping...\n",
      "Processing Record 43 of Set 6 | aksum\n",
      "Processing Record 44 of Set 6 | padang\n",
      "Processing Record 45 of Set 6 | eureka\n",
      "Processing Record 46 of Set 6 | honiara\n",
      "Processing Record 47 of Set 6 | san cristobal\n",
      "Processing Record 48 of Set 6 | vardo\n",
      "Processing Record 49 of Set 6 | hammerfest\n",
      "Processing Record 0 of Set 7 | saint george\n",
      "Processing Record 1 of Set 7 | yagodnoye\n",
      "Processing Record 2 of Set 7 | korla\n",
      "Processing Record 3 of Set 7 | mayor pablo lagerenza\n",
      "City not found. Skipping...\n",
      "Processing Record 4 of Set 7 | chapais\n",
      "Processing Record 5 of Set 7 | lavrentiya\n",
      "Processing Record 6 of Set 7 | rio gallegos\n",
      "Processing Record 7 of Set 7 | luoyang\n",
      "Processing Record 8 of Set 7 | danielskuil\n",
      "Processing Record 9 of Set 7 | djougou\n",
      "Processing Record 10 of Set 7 | bugarama\n",
      "Processing Record 11 of Set 7 | san quintin\n",
      "Processing Record 12 of Set 7 | tuy hoa\n",
      "Processing Record 13 of Set 7 | rio grande\n",
      "City not found. Skipping...\n",
      "Processing Record 14 of Set 7 | kijang\n",
      "Processing Record 15 of Set 7 | kyzyl-suu\n",
      "Processing Record 16 of Set 7 | angren\n",
      "City not found. Skipping...\n",
      "Processing Record 17 of Set 7 | axim\n",
      "Processing Record 18 of Set 7 | igurusi\n",
      "Processing Record 19 of Set 7 | south venice\n",
      "Processing Record 20 of Set 7 | tuxpan\n",
      "Processing Record 21 of Set 7 | sikonge\n",
      "Processing Record 22 of Set 7 | san vicente\n",
      "City not found. Skipping...\n",
      "Processing Record 23 of Set 7 | neyveli\n",
      "Processing Record 24 of Set 7 | tukrah\n",
      "Processing Record 25 of Set 7 | fallon\n",
      "Processing Record 26 of Set 7 | matay\n",
      "Processing Record 27 of Set 7 | pacific grove\n",
      "Processing Record 28 of Set 7 | arlit\n",
      "Processing Record 29 of Set 7 | inhambane\n",
      "Processing Record 30 of Set 7 | flin flon\n",
      "Processing Record 31 of Set 7 | tura\n",
      "Processing Record 32 of Set 7 | carora\n",
      "Processing Record 33 of Set 7 | ishimbay\n",
      "Processing Record 34 of Set 7 | berbera\n",
      "Processing Record 35 of Set 7 | hualmay\n",
      "City not found. Skipping...\n",
      "Processing Record 36 of Set 7 | dunedin\n",
      "Processing Record 37 of Set 7 | miquelon\n",
      "Processing Record 38 of Set 7 | zhigansk\n",
      "Processing Record 39 of Set 7 | juneau\n",
      "Processing Record 40 of Set 7 | inuvik\n",
      "Processing Record 41 of Set 7 | nuuk\n",
      "Processing Record 42 of Set 7 | ati\n",
      "Processing Record 43 of Set 7 | los chiles\n",
      "Processing Record 44 of Set 7 | nara\n",
      "Processing Record 45 of Set 7 | ixtapa\n",
      "Processing Record 46 of Set 7 | zenzeli\n",
      "Processing Record 47 of Set 7 | basco\n",
      "Processing Record 48 of Set 7 | mogadishu\n",
      "Processing Record 49 of Set 7 | tyukhtet\n",
      "Processing Record 0 of Set 8 | isangel\n",
      "Processing Record 1 of Set 8 | road town\n",
      "Processing Record 2 of Set 8 | snegiri\n",
      "Processing Record 3 of Set 8 | goiana\n",
      "City not found. Skipping...\n",
      "Processing Record 4 of Set 8 | campestre\n",
      "Processing Record 5 of Set 8 | launceston\n",
      "Processing Record 6 of Set 8 | warangal\n",
      "Processing Record 7 of Set 8 | guadalupe y calvo\n",
      "Processing Record 8 of Set 8 | pisco\n",
      "Processing Record 9 of Set 8 | gimbi\n",
      "Processing Record 10 of Set 8 | gemenele\n",
      "City not found. Skipping...\n",
      "Processing Record 11 of Set 8 | cidreira\n",
      "Processing Record 12 of Set 8 | barabinsk\n",
      "Processing Record 13 of Set 8 | ulaanbaatar\n",
      "Processing Record 14 of Set 8 | tailai\n",
      "Processing Record 15 of Set 8 | okha\n",
      "Processing Record 16 of Set 8 | longyearbyen\n",
      "Processing Record 17 of Set 8 | cayenne\n",
      "Processing Record 18 of Set 8 | izumo\n",
      "Processing Record 19 of Set 8 | banjar\n",
      "Processing Record 20 of Set 8 | oum hadjer\n",
      "Processing Record 21 of Set 8 | san patricio\n",
      "Processing Record 22 of Set 8 | sitka\n",
      "Processing Record 23 of Set 8 | tairua\n",
      "Processing Record 24 of Set 8 | ribas do rio pardo\n",
      "City not found. Skipping...\n"
     ]
    },
    {
     "name": "stdout",
     "output_type": "stream",
     "text": [
      "Processing Record 25 of Set 8 | shizunai\n",
      "Processing Record 26 of Set 8 | goma\n",
      "Processing Record 27 of Set 8 | kabompo\n",
      "Processing Record 28 of Set 8 | narsaq\n",
      "Processing Record 29 of Set 8 | pershotravneve\n",
      "Processing Record 30 of Set 8 | bentiu\n",
      "Processing Record 31 of Set 8 | ocampo\n",
      "Processing Record 32 of Set 8 | broome\n",
      "Processing Record 33 of Set 8 | naze\n",
      "Processing Record 34 of Set 8 | suraabad\n",
      "City not found. Skipping...\n",
      "Processing Record 35 of Set 8 | kirkwall\n",
      "Processing Record 36 of Set 8 | monrovia\n",
      "Processing Record 37 of Set 8 | ngunguru\n",
      "Processing Record 38 of Set 8 | deputatskiy\n",
      "Processing Record 39 of Set 8 | biak\n",
      "Processing Record 40 of Set 8 | shahganj\n",
      "Processing Record 41 of Set 8 | caloundra\n",
      "Processing Record 42 of Set 8 | husavik\n",
      "Processing Record 43 of Set 8 | waitati\n",
      "Processing Record 44 of Set 8 | yumen\n",
      "City not found. Skipping...\n",
      "City not found. Skipping...\n",
      "Processing Record 45 of Set 8 | muros\n",
      "Processing Record 46 of Set 8 | general pico\n",
      "Processing Record 47 of Set 8 | sao felix do xingu\n",
      "Processing Record 48 of Set 8 | calvinia\n",
      "Processing Record 49 of Set 8 | puerto baquerizo moreno\n",
      "Processing Record 0 of Set 9 | richards bay\n",
      "Processing Record 1 of Set 9 | chardara\n",
      "Processing Record 2 of Set 9 | dukat\n",
      "Processing Record 3 of Set 9 | manuk mangkaw\n",
      "Processing Record 4 of Set 9 | sault sainte marie\n",
      "Processing Record 5 of Set 9 | thohoyandou\n",
      "Processing Record 6 of Set 9 | punghina\n",
      "Processing Record 7 of Set 9 | chara\n",
      "Processing Record 8 of Set 9 | varna\n",
      "Processing Record 9 of Set 9 | bani walid\n",
      "Processing Record 10 of Set 9 | leander\n",
      "Processing Record 11 of Set 9 | mabaruma\n",
      "Processing Record 12 of Set 9 | tahe\n",
      "Processing Record 13 of Set 9 | sikasso\n",
      "City not found. Skipping...\n",
      "Processing Record 14 of Set 9 | bamako\n",
      "Processing Record 15 of Set 9 | la sarre\n",
      "Processing Record 16 of Set 9 | atherton\n",
      "Processing Record 17 of Set 9 | uyemskiy\n",
      "Processing Record 18 of Set 9 | yomou\n",
      "Processing Record 19 of Set 9 | masuguru\n",
      "Processing Record 20 of Set 9 | coquimbo\n",
      "Processing Record 21 of Set 9 | la macarena\n",
      "Processing Record 22 of Set 9 | troitskoye\n",
      "Processing Record 23 of Set 9 | erdaojiang\n",
      "City not found. Skipping...\n",
      "Processing Record 24 of Set 9 | dumas\n",
      "Processing Record 25 of Set 9 | entebbe\n",
      "Processing Record 26 of Set 9 | the valley\n",
      "Processing Record 27 of Set 9 | aksarka\n",
      "Processing Record 28 of Set 9 | namatanai\n",
      "Processing Record 29 of Set 9 | yokadouma\n",
      "Processing Record 30 of Set 9 | avera\n",
      "Processing Record 31 of Set 9 | hamilton\n",
      "Processing Record 32 of Set 9 | emerald\n",
      "Processing Record 33 of Set 9 | rehoboth\n",
      "Processing Record 34 of Set 9 | kachiry\n",
      "City not found. Skipping...\n",
      "Processing Record 35 of Set 9 | ghanzi\n",
      "Processing Record 36 of Set 9 | santa cruz\n",
      "Processing Record 37 of Set 9 | dakoro\n",
      "Processing Record 38 of Set 9 | tabou\n",
      "Processing Record 39 of Set 9 | tahoua\n",
      "City not found. Skipping...\n",
      "Processing Record 40 of Set 9 | eydhafushi\n",
      "Processing Record 41 of Set 9 | asau\n",
      "Processing Record 42 of Set 9 | westerland\n",
      "Processing Record 43 of Set 9 | pokhara\n",
      "Processing Record 44 of Set 9 | batemans bay\n",
      "Processing Record 45 of Set 9 | adre\n",
      "Processing Record 46 of Set 9 | talnakh\n",
      "Processing Record 47 of Set 9 | rundu\n",
      "City not found. Skipping...\n",
      "Processing Record 48 of Set 9 | camacha\n",
      "Processing Record 49 of Set 9 | havre-saint-pierre\n",
      "Processing Record 0 of Set 10 | paka\n",
      "Processing Record 1 of Set 10 | tarakan\n",
      "Processing Record 2 of Set 10 | cherskiy\n",
      "Processing Record 3 of Set 10 | adrar\n",
      "Processing Record 4 of Set 10 | cockburn town\n",
      "Processing Record 5 of Set 10 | vrangel\n",
      "Processing Record 6 of Set 10 | safaga\n",
      "Processing Record 7 of Set 10 | bubaque\n",
      "Processing Record 8 of Set 10 | shingu\n",
      "City not found. Skipping...\n",
      "Processing Record 9 of Set 10 | jhawarian\n",
      "Processing Record 10 of Set 10 | paamiut\n",
      "Processing Record 11 of Set 10 | yulara\n",
      "Processing Record 12 of Set 10 | lyuban\n",
      "Processing Record 13 of Set 10 | pouembout\n",
      "Processing Record 14 of Set 10 | boksitogorsk\n",
      "Processing Record 15 of Set 10 | haines junction\n",
      "Processing Record 16 of Set 10 | santo domingo suchitepequez\n",
      "Processing Record 17 of Set 10 | souillac\n",
      "Processing Record 18 of Set 10 | almaznyy\n",
      "Processing Record 19 of Set 10 | camp verde\n",
      "Processing Record 20 of Set 10 | kununurra\n",
      "Processing Record 21 of Set 10 | lithakia\n",
      "Processing Record 22 of Set 10 | ca mau\n",
      "Processing Record 23 of Set 10 | emet\n",
      "Processing Record 24 of Set 10 | sawakin\n",
      "Processing Record 25 of Set 10 | devarkonda\n",
      "Processing Record 26 of Set 10 | morwell\n",
      "Processing Record 27 of Set 10 | mehamn\n",
      "Processing Record 28 of Set 10 | sao luiz gonzaga\n",
      "City not found. Skipping...\n",
      "Processing Record 29 of Set 10 | kyshtovka\n",
      "Processing Record 30 of Set 10 | zaoyang\n",
      "Processing Record 31 of Set 10 | teknaf\n",
      "Processing Record 32 of Set 10 | fayaoue\n",
      "Processing Record 33 of Set 10 | luanda\n",
      "Processing Record 34 of Set 10 | noumea\n",
      "Processing Record 35 of Set 10 | waipawa\n",
      "Processing Record 36 of Set 10 | gariaband\n",
      "Processing Record 37 of Set 10 | ranong\n",
      "Processing Record 38 of Set 10 | san julian\n",
      "Processing Record 39 of Set 10 | springfield\n",
      "Processing Record 40 of Set 10 | omsukchan\n",
      "Processing Record 41 of Set 10 | santa teresa\n",
      "Processing Record 42 of Set 10 | pemangkat\n",
      "City not found. Skipping...\n",
      "Processing Record 43 of Set 10 | vao\n",
      "Processing Record 44 of Set 10 | aripuana\n",
      "Processing Record 45 of Set 10 | zhanjiang\n",
      "Processing Record 46 of Set 10 | veraval\n",
      "Processing Record 47 of Set 10 | semey\n",
      "Processing Record 48 of Set 10 | kumano\n",
      "Processing Record 49 of Set 10 | vostok\n",
      "Processing Record 0 of Set 11 | leninskoye\n",
      "Processing Record 1 of Set 11 | kenai\n",
      "Processing Record 2 of Set 11 | port blair\n",
      "Processing Record 3 of Set 11 | kalamnuri\n",
      "City not found. Skipping...\n",
      "Processing Record 4 of Set 11 | ust-charyshskaya pristan\n",
      "Processing Record 5 of Set 11 | erechim\n",
      "Processing Record 6 of Set 11 | tome\n",
      "Processing Record 7 of Set 11 | carauari\n",
      "Processing Record 8 of Set 11 | changde\n",
      "Processing Record 9 of Set 11 | alice\n",
      "Processing Record 10 of Set 11 | montlucon\n",
      "Processing Record 11 of Set 11 | dongying\n",
      "Processing Record 12 of Set 11 | bontang\n",
      "Processing Record 13 of Set 11 | bolshaya rechka\n",
      "Processing Record 14 of Set 11 | lima\n",
      "Processing Record 15 of Set 11 | plettenberg bay\n",
      "Processing Record 16 of Set 11 | ginir\n",
      "Processing Record 17 of Set 11 | sungaipenuh\n",
      "Processing Record 18 of Set 11 | san fernando\n",
      "Processing Record 19 of Set 11 | poum\n",
      "Processing Record 20 of Set 11 | warrington\n",
      "City not found. Skipping...\n",
      "Processing Record 21 of Set 11 | borogontsy\n",
      "Processing Record 22 of Set 11 | college\n",
      "Processing Record 23 of Set 11 | nioki\n",
      "City not found. Skipping...\n",
      "Processing Record 24 of Set 11 | cam ranh\n",
      "Processing Record 25 of Set 11 | arbazh\n",
      "Processing Record 26 of Set 11 | kimbe\n",
      "Processing Record 27 of Set 11 | logon\n",
      "Processing Record 28 of Set 11 | amahai\n",
      "Processing Record 29 of Set 11 | coahuayana\n",
      "Processing Record 30 of Set 11 | touros\n",
      "Processing Record 31 of Set 11 | chicama\n",
      "Processing Record 32 of Set 11 | cooma\n",
      "Processing Record 33 of Set 11 | vila velha\n",
      "Processing Record 34 of Set 11 | kazachinskoye\n",
      "City not found. Skipping...\n",
      "Processing Record 35 of Set 11 | bonfim\n",
      "Processing Record 36 of Set 11 | kenitra\n",
      "Processing Record 37 of Set 11 | roros\n",
      "Processing Record 38 of Set 11 | poltavka\n",
      "Processing Record 39 of Set 11 | labytnangi\n",
      "Processing Record 40 of Set 11 | latung\n",
      "Processing Record 41 of Set 11 | mpraeso\n",
      "Processing Record 42 of Set 11 | santa fe\n",
      "Processing Record 43 of Set 11 | sikeston\n",
      "Processing Record 44 of Set 11 | aromashevo\n",
      "City not found. Skipping...\n",
      "Processing Record 45 of Set 11 | henties bay\n",
      "Processing Record 46 of Set 11 | chinhoyi\n",
      "Processing Record 47 of Set 11 | acapulco\n",
      "Processing Record 48 of Set 11 | santa isabel do rio negro\n",
      "Processing Record 49 of Set 11 | ulladulla\n",
      "Processing Record 0 of Set 12 | kushima\n",
      "Processing Record 1 of Set 12 | sawtell\n",
      "Processing Record 2 of Set 12 | yeniseysk\n",
      "Processing Record 3 of Set 12 | constitucion\n",
      "Processing Record 4 of Set 12 | dzaoudzi\n",
      "City not found. Skipping...\n",
      "Processing Record 5 of Set 12 | mayumba\n",
      "Processing Record 6 of Set 12 | saldanha\n",
      "Processing Record 7 of Set 12 | makakilo city\n",
      "City not found. Skipping...\n",
      "Processing Record 8 of Set 12 | grindavik\n",
      "Processing Record 9 of Set 12 | goderich\n"
     ]
    },
    {
     "name": "stdout",
     "output_type": "stream",
     "text": [
      "Processing Record 10 of Set 12 | kerchevskiy\n",
      "Processing Record 11 of Set 12 | baykit\n",
      "Processing Record 12 of Set 12 | koumac\n",
      "Processing Record 13 of Set 12 | toamasina\n",
      "Processing Record 14 of Set 12 | alice springs\n",
      "Processing Record 15 of Set 12 | kuloy\n",
      "Processing Record 16 of Set 12 | lata\n",
      "Processing Record 17 of Set 12 | yumaguzino\n",
      "City not found. Skipping...\n",
      "Processing Record 18 of Set 12 | san carlos de bariloche\n",
      "Processing Record 19 of Set 12 | souris\n",
      "Processing Record 20 of Set 12 | saint-denis\n",
      "City not found. Skipping...\n",
      "Processing Record 21 of Set 12 | lubyany\n",
      "Processing Record 22 of Set 12 | berea\n",
      "-----------------------------\n",
      "Data Retrieval Complete\n",
      "-----------------------------\n"
     ]
    }
   ],
   "source": [
    "url = \"http://api.openweathermap.org/data/2.5/weather?\"\n",
    "count = 0\n",
    "set_count = 1\n",
    "city_name = []\n",
    "cloudiness = []\n",
    "country = []\n",
    "date = []\n",
    "humidity = []\n",
    "lat = []\n",
    "lng = []\n",
    "max_temp = []\n",
    "wind_speed = []\n",
    "\n",
    "print('Beginning Data Retrieval')\n",
    "print('-----------------------------')\n",
    "\n",
    "for city in cities:\n",
    "    params = {\n",
    "        'q': city,\n",
    "        'appid': weather_api_key\n",
    "    }\n",
    "    \n",
    "    #Catching non 200 response\n",
    "    try:\n",
    "        response = requests.get(url, params=params)\n",
    "        response.raise_for_status()\n",
    "        data = response.json()\n",
    "        \n",
    "        if count < 49:\n",
    "            count += 1\n",
    "        else:\n",
    "            count = 0\n",
    "            set_count += 1\n",
    "                \n",
    "        print(f'Processing Record {count} of Set {set_count} | {city}')\n",
    "        \n",
    "        city_name.append(city)\n",
    "        cloudiness.append(data['clouds']['all'])\n",
    "        country.append(data['sys']['country'])\n",
    "        date.append(data['dt'])\n",
    "        humidity.append(data['main']['humidity'])\n",
    "        lat.append(data['coord']['lat'])\n",
    "        lng.append(data['coord']['lon'])\n",
    "        max_temp.append(round((data['main']['temp_max'] * (9/5) - 459.67), 2))\n",
    "        wind_speed.append(round(data['wind']['speed'] * 2.237, 2))\n",
    "        \n",
    "    except requests.exceptions.HTTPError as e:\n",
    "        print(f\"City not found. Skipping...\")\n",
    "\n",
    "print(\"-----------------------------\\nData Retrieval Complete\\n-----------------------------\")\n",
    "    "
   ]
  },
  {
   "cell_type": "markdown",
   "metadata": {},
   "source": [
    "### Convert Raw Data to DataFrame\n",
    "* Export the city data into a .csv.\n",
    "* Display the DataFrame"
   ]
  },
  {
   "cell_type": "code",
   "execution_count": 8,
   "metadata": {},
   "outputs": [
    {
     "data": {
      "text/plain": [
       "City          572\n",
       "Cloudiness    572\n",
       "Country       572\n",
       "Date          572\n",
       "Humidity      572\n",
       "Lat           572\n",
       "Lng           572\n",
       "Max Temp      572\n",
       "Wind Speed    572\n",
       "dtype: int64"
      ]
     },
     "execution_count": 8,
     "metadata": {},
     "output_type": "execute_result"
    }
   ],
   "source": [
    "df_dict = {\n",
    "    'City': city_name,\n",
    "    'Cloudiness': cloudiness,\n",
    "    'Country': country,\n",
    "    'Date': date,\n",
    "    'Humidity': humidity,\n",
    "    'Lat': lat,\n",
    "    'Lng': lng,\n",
    "    'Max Temp': max_temp,\n",
    "    'Wind Speed': wind_speed\n",
    "}\n",
    "\n",
    "df = pd.DataFrame(df_dict)\n",
    "df.to_csv('Weather_Data.csv', index = False)\n",
    "df.count()"
   ]
  },
  {
   "cell_type": "code",
   "execution_count": 9,
   "metadata": {},
   "outputs": [
    {
     "data": {
      "text/html": [
       "<div>\n",
       "<style scoped>\n",
       "    .dataframe tbody tr th:only-of-type {\n",
       "        vertical-align: middle;\n",
       "    }\n",
       "\n",
       "    .dataframe tbody tr th {\n",
       "        vertical-align: top;\n",
       "    }\n",
       "\n",
       "    .dataframe thead th {\n",
       "        text-align: right;\n",
       "    }\n",
       "</style>\n",
       "<table border=\"1\" class=\"dataframe\">\n",
       "  <thead>\n",
       "    <tr style=\"text-align: right;\">\n",
       "      <th></th>\n",
       "      <th>City</th>\n",
       "      <th>Cloudiness</th>\n",
       "      <th>Country</th>\n",
       "      <th>Date</th>\n",
       "      <th>Humidity</th>\n",
       "      <th>Lat</th>\n",
       "      <th>Lng</th>\n",
       "      <th>Max Temp</th>\n",
       "      <th>Wind Speed</th>\n",
       "    </tr>\n",
       "  </thead>\n",
       "  <tbody>\n",
       "    <tr>\n",
       "      <th>0</th>\n",
       "      <td>mataura</td>\n",
       "      <td>82</td>\n",
       "      <td>NZ</td>\n",
       "      <td>1584336790</td>\n",
       "      <td>64</td>\n",
       "      <td>-46.19</td>\n",
       "      <td>168.86</td>\n",
       "      <td>53.01</td>\n",
       "      <td>14.00</td>\n",
       "    </tr>\n",
       "    <tr>\n",
       "      <th>1</th>\n",
       "      <td>barrow</td>\n",
       "      <td>90</td>\n",
       "      <td>US</td>\n",
       "      <td>1584336790</td>\n",
       "      <td>92</td>\n",
       "      <td>71.29</td>\n",
       "      <td>-156.79</td>\n",
       "      <td>19.40</td>\n",
       "      <td>14.99</td>\n",
       "    </tr>\n",
       "    <tr>\n",
       "      <th>2</th>\n",
       "      <td>gamba</td>\n",
       "      <td>97</td>\n",
       "      <td>GA</td>\n",
       "      <td>1584336900</td>\n",
       "      <td>90</td>\n",
       "      <td>-2.65</td>\n",
       "      <td>10.00</td>\n",
       "      <td>78.06</td>\n",
       "      <td>1.14</td>\n",
       "    </tr>\n",
       "    <tr>\n",
       "      <th>3</th>\n",
       "      <td>fort-shevchenko</td>\n",
       "      <td>94</td>\n",
       "      <td>KZ</td>\n",
       "      <td>1584336883</td>\n",
       "      <td>73</td>\n",
       "      <td>44.51</td>\n",
       "      <td>50.26</td>\n",
       "      <td>40.98</td>\n",
       "      <td>24.70</td>\n",
       "    </tr>\n",
       "    <tr>\n",
       "      <th>4</th>\n",
       "      <td>east london</td>\n",
       "      <td>90</td>\n",
       "      <td>ZA</td>\n",
       "      <td>1584336615</td>\n",
       "      <td>100</td>\n",
       "      <td>-33.02</td>\n",
       "      <td>27.91</td>\n",
       "      <td>62.60</td>\n",
       "      <td>2.24</td>\n",
       "    </tr>\n",
       "  </tbody>\n",
       "</table>\n",
       "</div>"
      ],
      "text/plain": [
       "              City  Cloudiness Country        Date  Humidity    Lat     Lng  \\\n",
       "0          mataura          82      NZ  1584336790        64 -46.19  168.86   \n",
       "1           barrow          90      US  1584336790        92  71.29 -156.79   \n",
       "2            gamba          97      GA  1584336900        90  -2.65   10.00   \n",
       "3  fort-shevchenko          94      KZ  1584336883        73  44.51   50.26   \n",
       "4      east london          90      ZA  1584336615       100 -33.02   27.91   \n",
       "\n",
       "   Max Temp  Wind Speed  \n",
       "0     53.01       14.00  \n",
       "1     19.40       14.99  \n",
       "2     78.06        1.14  \n",
       "3     40.98       24.70  \n",
       "4     62.60        2.24  "
      ]
     },
     "execution_count": 9,
     "metadata": {},
     "output_type": "execute_result"
    }
   ],
   "source": [
    "df.head()"
   ]
  },
  {
   "cell_type": "markdown",
   "metadata": {},
   "source": [
    "### Plotting the Data\n",
    "* Use proper labeling of the plots using plot titles (including date of analysis) and axes labels.\n",
    "* Save the plotted figures as .pngs."
   ]
  },
  {
   "cell_type": "markdown",
   "metadata": {},
   "source": [
    "#### Latitude vs. Temperature Plot"
   ]
  },
  {
   "cell_type": "code",
   "execution_count": 10,
   "metadata": {
    "scrolled": true
   },
   "outputs": [
    {
     "data": {
      "image/png": "[encoded data removed]",
      "text/plain": [
       "<Figure size 432x288 with 1 Axes>"
      ]
     },
     "metadata": {
      "needs_background": "light"
     },
     "output_type": "display_data"
    }
   ],
   "source": [
    "plt.scatter(df['Lat'], df['Max Temp'], facecolors='aqua', edgecolors='black')\n",
    "plt.xlabel('Latitude')\n",
    "plt.ylabel('Max Temperature (F)')\n",
    "str_date = datetime.utcfromtimestamp(df.loc[0, 'Date']).strftime('%m/%d/%y')\n",
    "plt.title(f'City Latitude vs. Max Temperature {str_date}')\n",
    "\n",
    "plt.savefig('scatter1.png')\n",
    "plt.show()"
   ]
  },
  {
   "cell_type": "markdown",
   "metadata": {},
   "source": [
    "The graph is a bit skewed because there are more northern hemisphere data points than southern hemisphere, but you can clearly see a pattern that as you move further away from 0 Latitude (equator), the Max Temp begins to drop."
   ]
  },
  {
   "cell_type": "markdown",
   "metadata": {},
   "source": [
    "#### Latitude vs. Humidity Plot"
   ]
  },
  {
   "cell_type": "code",
   "execution_count": 11,
   "metadata": {},
   "outputs": [
    {
     "data": {
      "image/png": "[encoded data removed]",
      "text/plain": [
       "<Figure size 432x288 with 1 Axes>"
      ]
     },
     "metadata": {
      "needs_background": "light"
     },
     "output_type": "display_data"
    }
   ],
   "source": [
    "plt.scatter(df['Lat'], df['Humidity'], facecolors='aqua', edgecolors='black')\n",
    "plt.xlabel('Latitude')\n",
    "plt.ylabel('Humidity')\n",
    "plt.title(f'City Latitude vs. Humidity {str_date}')\n",
    "\n",
    "plt.savefig('scatter2.png')\n",
    "plt.show()"
   ]
  },
  {
   "cell_type": "markdown",
   "metadata": {},
   "source": [
    "This graph shows that there is no real relationship between Latitude and Humidity."
   ]
  },
  {
   "cell_type": "markdown",
   "metadata": {},
   "source": [
    "#### Latitude vs. Cloudiness Plot"
   ]
  },
  {
   "cell_type": "code",
   "execution_count": 12,
   "metadata": {},
   "outputs": [
    {
     "data": {
      "image/png": "[encoded data removed]",
      "text/plain": [
       "<Figure size 432x288 with 1 Axes>"
      ]
     },
     "metadata": {
      "needs_background": "light"
     },
     "output_type": "display_data"
    }
   ],
   "source": [
    "plt.scatter(df['Lat'], df['Cloudiness'], facecolors='aqua', edgecolors='black')\n",
    "plt.xlabel('Latitude')\n",
    "plt.ylabel('Cloudiness')\n",
    "plt.title(f'City Latitude vs. Cloudiness {str_date}')\n",
    "\n",
    "plt.savefig('scatter3.png')\n",
    "plt.show()"
   ]
  },
  {
   "cell_type": "markdown",
   "metadata": {},
   "source": [
    "This graph shows that there is no real relationship between Latitude and Cloudiness."
   ]
  },
  {
   "cell_type": "markdown",
   "metadata": {},
   "source": [
    "#### Latitude vs. Wind Speed Plot"
   ]
  },
  {
   "cell_type": "code",
   "execution_count": 13,
   "metadata": {},
   "outputs": [
    {
     "data": {
      "image/png": "[encoded data removed]",
      "text/plain": [
       "<Figure size 432x288 with 1 Axes>"
      ]
     },
     "metadata": {
      "needs_background": "light"
     },
     "output_type": "display_data"
    }
   ],
   "source": [
    "plt.scatter(df['Lat'], df['Wind Speed'], facecolors='aqua', edgecolors='black')\n",
    "plt.xlabel('Latitude')\n",
    "plt.ylabel('Wind Speed')\n",
    "plt.title(f'City Latitude vs. Wind Speed {str_date}')\n",
    "\n",
    "plt.savefig('scatter4.png')\n",
    "plt.show()"
   ]
  },
  {
   "cell_type": "markdown",
   "metadata": {},
   "source": [
    "This graph shows that there is no real relationship between Latitude and Wind Speed."
   ]
  },
  {
   "cell_type": "markdown",
   "metadata": {},
   "source": [
    "## Linear Regression"
   ]
  },
  {
   "cell_type": "code",
   "execution_count": 14,
   "metadata": {},
   "outputs": [],
   "source": [
    "# OPTIONAL: Create a function to create Linear Regression plots\n",
    "def plot_regress_line(x_values, y_values):   \n",
    "    (slope, intercept, rvalue, pvalue, stderr) = linregress(x_values, y_values)\n",
    "    regress_values = x_values * slope + intercept\n",
    "    line_eq = \"y = \" + str(round(slope,2)) + \"x + \" + str(round(intercept,2))\n",
    "    plt.plot(x_values,regress_values,\"r-\")\n",
    "    return {rvalue, line_eq}"
   ]
  },
  {
   "cell_type": "code",
   "execution_count": 15,
   "metadata": {},
   "outputs": [],
   "source": [
    "# Create Northern and Southern Hemisphere DataFrames\n",
    "south_df = df[df['Lat'] < 0]\n",
    "north_df = df[df['Lat'] > 0]"
   ]
  },
  {
   "cell_type": "markdown",
   "metadata": {},
   "source": [
    "####  Northern Hemisphere - Max Temp vs. Latitude Linear Regression"
   ]
  },
  {
   "cell_type": "code",
   "execution_count": 16,
   "metadata": {},
   "outputs": [
    {
     "name": "stdout",
     "output_type": "stream",
     "text": [
      "The r-squared is: -0.9008457439409918\n"
     ]
    },
    {
     "data": {
      "image/png": "[encoded data removed]",
      "text/plain": [
       "<Figure size 432x288 with 1 Axes>"
      ]
     },
     "metadata": {
      "needs_background": "light"
     },
     "output_type": "display_data"
    }
   ],
   "source": [
    "plt.scatter(north_df['Lat'], north_df['Max Temp'], facecolors='aqua', edgecolors='black')\n",
    "plt.xlabel('Latitude')\n",
    "plt.ylabel('Max Temp')\n",
    "rvalue, line_eq = plot_regress_line(north_df['Lat'], north_df['Max Temp'])\n",
    "plt.annotate(line_eq,(0,-20),fontsize=15,color=\"red\")\n",
    "print(f\"The r-squared is: {rvalue}\")\n",
    "\n",
    "plt.savefig('scatter5.png')\n",
    "plt.show()"
   ]
  },
  {
   "cell_type": "markdown",
   "metadata": {},
   "source": [
    "The linear regression shows a negative correlation between latitude and max temp. As you move further north away from 0 lat, the Max Temp moves torwards a negative value."
   ]
  },
  {
   "cell_type": "markdown",
   "metadata": {},
   "source": [
    "####  Southern Hemisphere - Max Temp vs. Latitude Linear Regression"
   ]
  },
  {
   "cell_type": "code",
   "execution_count": 17,
   "metadata": {},
   "outputs": [
    {
     "name": "stdout",
     "output_type": "stream",
     "text": [
      "The r-squared is: 0.6183002012173668\n"
     ]
    },
    {
     "data": {
      "image/png": "[encoded data removed]",
      "text/plain": [
       "<Figure size 432x288 with 1 Axes>"
      ]
     },
     "metadata": {
      "needs_background": "light"
     },
     "output_type": "display_data"
    }
   ],
   "source": [
    "plt.scatter(south_df['Lat'], south_df['Max Temp'], facecolors='aqua', edgecolors='black')\n",
    "plt.xlabel('Latitude')\n",
    "plt.ylabel('Max Temp')\n",
    "rvalue, line_eq = plot_regress_line(south_df['Lat'], south_df['Max Temp'])\n",
    "plt.annotate(line_eq,(-30,50),fontsize=15,color=\"red\")\n",
    "print(f\"The r-squared is: {rvalue}\")\n",
    "\n",
    "plt.savefig('scatter6.png')\n",
    "plt.show()"
   ]
  },
  {
   "cell_type": "markdown",
   "metadata": {},
   "source": [
    "The linear regression shows a positive correlation between latitude and max temp for the southern hemisphere. As you move towards the equator from the furthest souther point, the max temp moves torwards higher positive values."
   ]
  },
  {
   "cell_type": "markdown",
   "metadata": {},
   "source": [
    "####  Northern Hemisphere - Humidity (%) vs. Latitude Linear Regression"
   ]
  },
  {
   "cell_type": "code",
   "execution_count": 18,
   "metadata": {},
   "outputs": [
    {
     "name": "stdout",
     "output_type": "stream",
     "text": [
      "The r-squared is: 0.2798094951020427\n"
     ]
    },
    {
     "data": {
      "image/png": "[encoded data removed]",
      "text/plain": [
       "<Figure size 432x288 with 1 Axes>"
      ]
     },
     "metadata": {
      "needs_background": "light"
     },
     "output_type": "display_data"
    }
   ],
   "source": [
    "plt.scatter(north_df['Lat'], north_df['Humidity'], facecolors='aqua', edgecolors='black')\n",
    "plt.xlabel('Latitude')\n",
    "plt.ylabel('Humidity')\n",
    "rvalue, line_eq = plot_regress_line(north_df['Lat'], north_df['Humidity'])\n",
    "plt.annotate(line_eq,(40,20),fontsize=15,color=\"red\")\n",
    "print(f\"The r-squared is: {rvalue}\")\n",
    "\n",
    "plt.savefig('scatter7.png')\n",
    "plt.show()"
   ]
  },
  {
   "cell_type": "markdown",
   "metadata": {},
   "source": [
    "The linear regression shows little to no correlation between humidity and latitude in the northern hemisphere."
   ]
  },
  {
   "cell_type": "markdown",
   "metadata": {},
   "source": [
    "####  Southern Hemisphere - Humidity (%) vs. Latitude Linear Regression"
   ]
  },
  {
   "cell_type": "code",
   "execution_count": 19,
   "metadata": {},
   "outputs": [
    {
     "name": "stdout",
     "output_type": "stream",
     "text": [
      "The r-squared is: 0.2774746979397645\n"
     ]
    },
    {
     "data": {
      "image/png": "[encoded data removed]",
      "text/plain": [
       "<Figure size 432x288 with 1 Axes>"
      ]
     },
     "metadata": {
      "needs_background": "light"
     },
     "output_type": "display_data"
    }
   ],
   "source": [
    "plt.scatter(south_df['Lat'], south_df['Humidity'], facecolors='aqua', edgecolors='black')\n",
    "plt.xlabel('Latitude')\n",
    "plt.ylabel('Humidity')\n",
    "rvalue, line_eq = plot_regress_line(south_df['Lat'], south_df['Humidity'])\n",
    "plt.annotate(line_eq,(-50,20),fontsize=15,color=\"red\")\n",
    "print(f\"The r-squared is: {rvalue}\")\n",
    "\n",
    "plt.savefig('scatter8.png')\n",
    "plt.show()"
   ]
  },
  {
   "cell_type": "markdown",
   "metadata": {},
   "source": [
    "The linear regression shows little to no correlation between humidity and latitude in the southern hemisphere."
   ]
  },
  {
   "cell_type": "markdown",
   "metadata": {},
   "source": [
    "####  Northern Hemisphere - Cloudiness (%) vs. Latitude Linear Regression"
   ]
  },
  {
   "cell_type": "code",
   "execution_count": 20,
   "metadata": {},
   "outputs": [
    {
     "name": "stdout",
     "output_type": "stream",
     "text": [
      "The r-squared is: 0.20289878268307185\n"
     ]
    },
    {
     "data": {
      "image/png": "[encoded data removed]",
      "text/plain": [
       "<Figure size 432x288 with 1 Axes>"
      ]
     },
     "metadata": {
      "needs_background": "light"
     },
     "output_type": "display_data"
    }
   ],
   "source": [
    "plt.scatter(north_df['Lat'], north_df['Cloudiness'], facecolors='aqua', edgecolors='black')\n",
    "plt.xlabel('Latitude')\n",
    "plt.ylabel('Cloudiness')\n",
    "rvalue, line_eq = plot_regress_line(north_df['Lat'], north_df['Cloudiness'])\n",
    "plt.annotate(line_eq,(40,30),fontsize=15,color=\"red\")\n",
    "print(f\"The r-squared is: {rvalue}\")\n",
    "\n",
    "plt.savefig('scatter9.png')\n",
    "plt.show()"
   ]
  },
  {
   "cell_type": "markdown",
   "metadata": {},
   "source": [
    "The linear regression shows almost no correlation between cloudiness and latitude in the northern hemisphere."
   ]
  },
  {
   "cell_type": "markdown",
   "metadata": {},
   "source": [
    "####  Southern Hemisphere - Cloudiness (%) vs. Latitude Linear Regression"
   ]
  },
  {
   "cell_type": "code",
   "execution_count": 21,
   "metadata": {},
   "outputs": [
    {
     "name": "stdout",
     "output_type": "stream",
     "text": [
      "The r-squared is: 0.2386123798241261\n"
     ]
    },
    {
     "data": {
      "image/png": "[encoded data removed]",
      "text/plain": [
       "<Figure size 432x288 with 1 Axes>"
      ]
     },
     "metadata": {
      "needs_background": "light"
     },
     "output_type": "display_data"
    }
   ],
   "source": [
    "plt.scatter(south_df['Lat'], south_df['Cloudiness'], facecolors='aqua', edgecolors='black')\n",
    "plt.xlabel('Latitude')\n",
    "plt.ylabel('Cloudiness')\n",
    "rvalue, line_eq = plot_regress_line(south_df['Lat'], south_df['Cloudiness'])\n",
    "plt.annotate(line_eq,(-50,30),fontsize=15,color=\"red\")\n",
    "print(f\"The r-squared is: {rvalue}\")\n",
    "\n",
    "plt.savefig('scatter10.png')\n",
    "plt.show()"
   ]
  },
  {
   "cell_type": "markdown",
   "metadata": {},
   "source": [
    "The linear regression shows almost no correlation between cloudiness and latitude in the southern hemisphere."
   ]
  },
  {
   "cell_type": "markdown",
   "metadata": {},
   "source": [
    "####  Northern Hemisphere - Wind Speed (mph) vs. Latitude Linear Regression"
   ]
  },
  {
   "cell_type": "code",
   "execution_count": 22,
   "metadata": {},
   "outputs": [
    {
     "name": "stdout",
     "output_type": "stream",
     "text": [
      "The r-squared is: 0.21233711742673053\n"
     ]
    },
    {
     "data": {
      "image/png": "[encoded data removed]",
      "text/plain": [
       "<Figure size 432x288 with 1 Axes>"
      ]
     },
     "metadata": {
      "needs_background": "light"
     },
     "output_type": "display_data"
    }
   ],
   "source": [
    "plt.scatter(north_df['Lat'], north_df['Wind Speed'], facecolors='aqua', edgecolors='black')\n",
    "plt.xlabel('Latitude')\n",
    "plt.ylabel('Wind Speed')\n",
    "rvalue, line_eq = plot_regress_line(north_df['Lat'], north_df['Wind Speed'])\n",
    "plt.annotate(line_eq,(0,25),fontsize=15,color=\"red\")\n",
    "print(f\"The r-squared is: {rvalue}\")\n",
    "\n",
    "plt.savefig('scatter11.png')\n",
    "plt.show()"
   ]
  },
  {
   "cell_type": "markdown",
   "metadata": {},
   "source": [
    "The linear regression shows almost no correlation between wind speed and latitude in the northern hemisphere."
   ]
  },
  {
   "cell_type": "markdown",
   "metadata": {},
   "source": [
    "####  Southern Hemisphere - Wind Speed (mph) vs. Latitude Linear Regression"
   ]
  },
  {
   "cell_type": "code",
   "execution_count": 23,
   "metadata": {},
   "outputs": [
    {
     "name": "stdout",
     "output_type": "stream",
     "text": [
      "The r-squared is: -0.3190260315111843\n"
     ]
    },
    {
     "data": {
      "image/png": "[encoded data removed]",
      "text/plain": [
       "<Figure size 432x288 with 1 Axes>"
      ]
     },
     "metadata": {
      "needs_background": "light"
     },
     "output_type": "display_data"
    }
   ],
   "source": [
    "plt.scatter(south_df['Lat'], south_df['Wind Speed'], facecolors='aqua', edgecolors='black')\n",
    "plt.xlabel('Latitude')\n",
    "plt.ylabel('Wind Speed')\n",
    "rvalue, line_eq = plot_regress_line(south_df['Lat'], south_df['Wind Speed'])\n",
    "plt.annotate(line_eq,(-30,30),fontsize=15,color=\"red\")\n",
    "print(f\"The r-squared is: {rvalue}\")\n",
    "\n",
    "plt.savefig('scatter12.png')\n",
    "plt.show()"
   ]
  },
  {
   "cell_type": "markdown",
   "metadata": {},
   "source": [
    "The linear regression shows little to no correlation between wind speed and latitude in the southern hemisphere."
   ]
  },
  {
   "cell_type": "markdown",
   "metadata": {},
   "source": [
    "3 trends that I noticed are:\n",
    "* 1) As you move further north from the equator the max temperature decreases.\n",
    "* 2) As you move further north torwards the equator the max temperature increases.\n",
    "* 3) Location has very little impact on cloudiness and wind speed. "
   ]
  },
  {
   "cell_type": "code",
   "execution_count": null,
   "metadata": {},
   "outputs": [],
   "source": []
  }
 ],
 "metadata": {
  "anaconda-cloud": {},
  "kernel_info": {
   "name": "python3"
  },
  "kernelspec": {
   "display_name": "Python 3",
   "language": "python",
   "name": "python3"
  },
  "language_info": {
   "codemirror_mode": {
    "name": "ipython",
    "version": 3
   },
   "file_extension": ".py",
   "mimetype": "text/x-python",
   "name": "python",
   "nbconvert_exporter": "python",
   "pygments_lexer": "ipython3",
   "version": "3.6.10"
  },
  "latex_envs": {
   "LaTeX_envs_menu_present": true,
   "autoclose": false,
   "autocomplete": true,
   "bibliofile": "biblio.bib",
   "cite_by": "apalike",
   "current_citInitial": 1,
   "eqLabelWithNumbers": true,
   "eqNumInitial": 1,
   "hotkeys": {
    "equation": "Ctrl-E",
    "itemize": "Ctrl-I"
   },
   "labels_anchors": false,
   "latex_user_defs": false,
   "report_style_numbering": false,
   "user_envs_cfg": false
  },
  "nteract": {
   "version": "0.12.3"
  }
 },
 "nbformat": 4,
 "nbformat_minor": 2
}
